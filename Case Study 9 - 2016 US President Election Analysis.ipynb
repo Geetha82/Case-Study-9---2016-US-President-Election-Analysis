{
 "cells": [
  {
   "cell_type": "markdown",
   "metadata": {
    "colab_type": "text",
    "id": "RtAhjFFT9X7E"
   },
   "source": []
  },
  {
   "cell_type": "code",
   "execution_count": 1,
   "metadata": {
    "colab": {},
    "colab_type": "code",
    "id": "hc2Dv7rS8S7U"
   },
   "outputs": [
    {
     "name": "stderr",
     "output_type": "stream",
     "text": [
      "UsageError: Line magic function `%` not found.\n"
     ]
    }
   ],
   "source": [
    "# Importing Libraries\n",
    "import numpy as np\n",
    "import pandas as pd\n",
    "from pandas import Series,DataFrame\n",
    "\n",
    "# For Visualization\n",
    "import matplotlib as plt\n",
    "import seaborn as sns\n",
    "sns.set_style('whitegrid')\n",
    "sns.set(font_scale=2)\n",
    "% matplotlib inline\n",
    "\n",
    "# Resize the size of plots\n",
    "fig_size = plt.rcParams[\"figure.figsize\"]\n",
    " \n",
    "# Set figure width to 12 and height to 9\n",
    "fig_size[0] = 14\n",
    "fig_size[1] = 10\n",
    "plt.rcParams[\"figure.figsize\"] = fig_size"
   ]
  },
  {
   "cell_type": "code",
   "execution_count": 2,
   "metadata": {
    "colab": {
     "base_uri": "https://localhost:8080/",
     "height": 551
    },
    "colab_type": "code",
    "executionInfo": {
     "elapsed": 5829,
     "status": "ok",
     "timestamp": 1578198650271,
     "user": {
      "displayName": "Rajeev Ratan",
      "photoUrl": "https://lh3.googleusercontent.com/a-/AAuE7mCGo6aIm0tOcd5EhqWlYb0rime9sBvHS9YMpx0D2w=s64",
      "userId": "08597265227091462140"
     },
     "user_tz": 240
    },
    "id": "yxb753mp9YgZ",
    "outputId": "c4e976e1-0347-447a-b9fe-976232ff5b0a"
   },
   "outputs": [
    {
     "data": {
      "text/html": [
       "<div>\n",
       "<style scoped>\n",
       "    .dataframe tbody tr th:only-of-type {\n",
       "        vertical-align: middle;\n",
       "    }\n",
       "\n",
       "    .dataframe tbody tr th {\n",
       "        vertical-align: top;\n",
       "    }\n",
       "\n",
       "    .dataframe thead th {\n",
       "        text-align: right;\n",
       "    }\n",
       "</style>\n",
       "<table border=\"1\" class=\"dataframe\">\n",
       "  <thead>\n",
       "    <tr style=\"text-align: right;\">\n",
       "      <th></th>\n",
       "      <th>Pollster</th>\n",
       "      <th>Start Date</th>\n",
       "      <th>End Date</th>\n",
       "      <th>Entry Date/Time (ET)</th>\n",
       "      <th>Number of Observations</th>\n",
       "      <th>Population</th>\n",
       "      <th>Mode</th>\n",
       "      <th>Trump</th>\n",
       "      <th>Clinton</th>\n",
       "      <th>Other</th>\n",
       "      <th>Undecided</th>\n",
       "      <th>Pollster URL</th>\n",
       "      <th>Source URL</th>\n",
       "      <th>Partisan</th>\n",
       "      <th>Affiliation</th>\n",
       "      <th>Question Text</th>\n",
       "      <th>Question Iteration</th>\n",
       "    </tr>\n",
       "  </thead>\n",
       "  <tbody>\n",
       "    <tr>\n",
       "      <th>0</th>\n",
       "      <td>Insights West</td>\n",
       "      <td>2016-11-04</td>\n",
       "      <td>2016-11-07</td>\n",
       "      <td>2016-11-08T12:16:30Z</td>\n",
       "      <td>940.0</td>\n",
       "      <td>Likely Voters</td>\n",
       "      <td>Internet</td>\n",
       "      <td>41.0</td>\n",
       "      <td>45.0</td>\n",
       "      <td>2.0</td>\n",
       "      <td>8.0</td>\n",
       "      <td>http://elections.huffingtonpost.com/pollster/p...</td>\n",
       "      <td>http://www.insightswest.com/news/clinton-is-ah...</td>\n",
       "      <td>Nonpartisan</td>\n",
       "      <td>None</td>\n",
       "      <td>As you may know, there will be a presidential ...</td>\n",
       "      <td>1</td>\n",
       "    </tr>\n",
       "    <tr>\n",
       "      <th>1</th>\n",
       "      <td>Insights West</td>\n",
       "      <td>2016-11-04</td>\n",
       "      <td>2016-11-07</td>\n",
       "      <td>2016-11-08T12:16:30Z</td>\n",
       "      <td>NaN</td>\n",
       "      <td>Likely Voters - Democrat</td>\n",
       "      <td>Internet</td>\n",
       "      <td>6.0</td>\n",
       "      <td>89.0</td>\n",
       "      <td>0.0</td>\n",
       "      <td>4.0</td>\n",
       "      <td>http://elections.huffingtonpost.com/pollster/p...</td>\n",
       "      <td>http://www.insightswest.com/news/clinton-is-ah...</td>\n",
       "      <td>Nonpartisan</td>\n",
       "      <td>None</td>\n",
       "      <td>As you may know, there will be a presidential ...</td>\n",
       "      <td>1</td>\n",
       "    </tr>\n",
       "    <tr>\n",
       "      <th>2</th>\n",
       "      <td>Insights West</td>\n",
       "      <td>2016-11-04</td>\n",
       "      <td>2016-11-07</td>\n",
       "      <td>2016-11-08T12:16:30Z</td>\n",
       "      <td>NaN</td>\n",
       "      <td>Likely Voters - Republican</td>\n",
       "      <td>Internet</td>\n",
       "      <td>82.0</td>\n",
       "      <td>7.0</td>\n",
       "      <td>2.0</td>\n",
       "      <td>6.0</td>\n",
       "      <td>http://elections.huffingtonpost.com/pollster/p...</td>\n",
       "      <td>http://www.insightswest.com/news/clinton-is-ah...</td>\n",
       "      <td>Nonpartisan</td>\n",
       "      <td>None</td>\n",
       "      <td>As you may know, there will be a presidential ...</td>\n",
       "      <td>1</td>\n",
       "    </tr>\n",
       "    <tr>\n",
       "      <th>3</th>\n",
       "      <td>Insights West</td>\n",
       "      <td>2016-11-04</td>\n",
       "      <td>2016-11-07</td>\n",
       "      <td>2016-11-08T12:16:30Z</td>\n",
       "      <td>NaN</td>\n",
       "      <td>Likely Voters - independent</td>\n",
       "      <td>Internet</td>\n",
       "      <td>38.0</td>\n",
       "      <td>43.0</td>\n",
       "      <td>4.0</td>\n",
       "      <td>7.0</td>\n",
       "      <td>http://elections.huffingtonpost.com/pollster/p...</td>\n",
       "      <td>http://www.insightswest.com/news/clinton-is-ah...</td>\n",
       "      <td>Nonpartisan</td>\n",
       "      <td>None</td>\n",
       "      <td>As you may know, there will be a presidential ...</td>\n",
       "      <td>1</td>\n",
       "    </tr>\n",
       "    <tr>\n",
       "      <th>4</th>\n",
       "      <td>IBD/TIPP</td>\n",
       "      <td>2016-11-04</td>\n",
       "      <td>2016-11-07</td>\n",
       "      <td>2016-11-08T12:10:06Z</td>\n",
       "      <td>1107.0</td>\n",
       "      <td>Likely Voters</td>\n",
       "      <td>Live Phone</td>\n",
       "      <td>43.0</td>\n",
       "      <td>41.0</td>\n",
       "      <td>4.0</td>\n",
       "      <td>5.0</td>\n",
       "      <td>http://elections.huffingtonpost.com/pollster/p...</td>\n",
       "      <td>http://www.investors.com/politics/ibd-tipp-pre...</td>\n",
       "      <td>Nonpartisan</td>\n",
       "      <td>None</td>\n",
       "      <td>NaN</td>\n",
       "      <td>1</td>\n",
       "    </tr>\n",
       "  </tbody>\n",
       "</table>\n",
       "</div>"
      ],
      "text/plain": [
       "        Pollster  Start Date    End Date  Entry Date/Time (ET)  \\\n",
       "0  Insights West  2016-11-04  2016-11-07  2016-11-08T12:16:30Z   \n",
       "1  Insights West  2016-11-04  2016-11-07  2016-11-08T12:16:30Z   \n",
       "2  Insights West  2016-11-04  2016-11-07  2016-11-08T12:16:30Z   \n",
       "3  Insights West  2016-11-04  2016-11-07  2016-11-08T12:16:30Z   \n",
       "4       IBD/TIPP  2016-11-04  2016-11-07  2016-11-08T12:10:06Z   \n",
       "\n",
       "   Number of Observations                   Population        Mode  Trump  \\\n",
       "0                   940.0                Likely Voters    Internet   41.0   \n",
       "1                     NaN     Likely Voters - Democrat    Internet    6.0   \n",
       "2                     NaN   Likely Voters - Republican    Internet   82.0   \n",
       "3                     NaN  Likely Voters - independent    Internet   38.0   \n",
       "4                  1107.0                Likely Voters  Live Phone   43.0   \n",
       "\n",
       "   Clinton  Other  Undecided  \\\n",
       "0     45.0    2.0        8.0   \n",
       "1     89.0    0.0        4.0   \n",
       "2      7.0    2.0        6.0   \n",
       "3     43.0    4.0        7.0   \n",
       "4     41.0    4.0        5.0   \n",
       "\n",
       "                                        Pollster URL  \\\n",
       "0  http://elections.huffingtonpost.com/pollster/p...   \n",
       "1  http://elections.huffingtonpost.com/pollster/p...   \n",
       "2  http://elections.huffingtonpost.com/pollster/p...   \n",
       "3  http://elections.huffingtonpost.com/pollster/p...   \n",
       "4  http://elections.huffingtonpost.com/pollster/p...   \n",
       "\n",
       "                                          Source URL     Partisan Affiliation  \\\n",
       "0  http://www.insightswest.com/news/clinton-is-ah...  Nonpartisan        None   \n",
       "1  http://www.insightswest.com/news/clinton-is-ah...  Nonpartisan        None   \n",
       "2  http://www.insightswest.com/news/clinton-is-ah...  Nonpartisan        None   \n",
       "3  http://www.insightswest.com/news/clinton-is-ah...  Nonpartisan        None   \n",
       "4  http://www.investors.com/politics/ibd-tipp-pre...  Nonpartisan        None   \n",
       "\n",
       "                                       Question Text  Question Iteration  \n",
       "0  As you may know, there will be a presidential ...                   1  \n",
       "1  As you may know, there will be a presidential ...                   1  \n",
       "2  As you may know, there will be a presidential ...                   1  \n",
       "3  As you may know, there will be a presidential ...                   1  \n",
       "4                                                NaN                   1  "
      ]
     },
     "execution_count": 2,
     "metadata": {},
     "output_type": "execute_result"
    }
   ],
   "source": [
    "# Import Dataset\n",
    "poll = pd.read_csv(\"2016-general-election-trump-vs-clinton.csv\")\n",
    "poll.head()"
   ]
  },
  {
   "cell_type": "code",
   "execution_count": 3,
   "metadata": {
    "colab": {
     "base_uri": "https://localhost:8080/",
     "height": 341
    },
    "colab_type": "code",
    "executionInfo": {
     "elapsed": 415,
     "status": "ok",
     "timestamp": 1578198652428,
     "user": {
      "displayName": "Rajeev Ratan",
      "photoUrl": "https://lh3.googleusercontent.com/a-/AAuE7mCGo6aIm0tOcd5EhqWlYb0rime9sBvHS9YMpx0D2w=s64",
      "userId": "08597265227091462140"
     },
     "user_tz": 240
    },
    "id": "N6q-7hgX-DZX",
    "outputId": "0d409645-cc21-4616-e7af-7be1b304d4a8",
    "scrolled": false
   },
   "outputs": [
    {
     "data": {
      "text/html": [
       "<div>\n",
       "<style scoped>\n",
       "    .dataframe tbody tr th:only-of-type {\n",
       "        vertical-align: middle;\n",
       "    }\n",
       "\n",
       "    .dataframe tbody tr th {\n",
       "        vertical-align: top;\n",
       "    }\n",
       "\n",
       "    .dataframe thead th {\n",
       "        text-align: right;\n",
       "    }\n",
       "</style>\n",
       "<table border=\"1\" class=\"dataframe\">\n",
       "  <thead>\n",
       "    <tr style=\"text-align: right;\">\n",
       "      <th></th>\n",
       "      <th>Pollster</th>\n",
       "      <th>Start Date</th>\n",
       "      <th>End Date</th>\n",
       "      <th>Entry Date/Time (ET)</th>\n",
       "      <th>Number of Observations</th>\n",
       "      <th>Population</th>\n",
       "      <th>Mode</th>\n",
       "      <th>Trump</th>\n",
       "      <th>Clinton</th>\n",
       "      <th>Other</th>\n",
       "      <th>Undecided</th>\n",
       "      <th>Affiliation</th>\n",
       "    </tr>\n",
       "  </thead>\n",
       "  <tbody>\n",
       "    <tr>\n",
       "      <th>0</th>\n",
       "      <td>Insights West</td>\n",
       "      <td>2016-11-04</td>\n",
       "      <td>2016-11-07</td>\n",
       "      <td>2016-11-08T12:16:30Z</td>\n",
       "      <td>940.0</td>\n",
       "      <td>Likely Voters</td>\n",
       "      <td>Internet</td>\n",
       "      <td>41.0</td>\n",
       "      <td>45.0</td>\n",
       "      <td>2.0</td>\n",
       "      <td>8.0</td>\n",
       "      <td>None</td>\n",
       "    </tr>\n",
       "    <tr>\n",
       "      <th>1</th>\n",
       "      <td>Insights West</td>\n",
       "      <td>2016-11-04</td>\n",
       "      <td>2016-11-07</td>\n",
       "      <td>2016-11-08T12:16:30Z</td>\n",
       "      <td>NaN</td>\n",
       "      <td>Likely Voters - Democrat</td>\n",
       "      <td>Internet</td>\n",
       "      <td>6.0</td>\n",
       "      <td>89.0</td>\n",
       "      <td>0.0</td>\n",
       "      <td>4.0</td>\n",
       "      <td>None</td>\n",
       "    </tr>\n",
       "    <tr>\n",
       "      <th>2</th>\n",
       "      <td>Insights West</td>\n",
       "      <td>2016-11-04</td>\n",
       "      <td>2016-11-07</td>\n",
       "      <td>2016-11-08T12:16:30Z</td>\n",
       "      <td>NaN</td>\n",
       "      <td>Likely Voters - Republican</td>\n",
       "      <td>Internet</td>\n",
       "      <td>82.0</td>\n",
       "      <td>7.0</td>\n",
       "      <td>2.0</td>\n",
       "      <td>6.0</td>\n",
       "      <td>None</td>\n",
       "    </tr>\n",
       "    <tr>\n",
       "      <th>3</th>\n",
       "      <td>Insights West</td>\n",
       "      <td>2016-11-04</td>\n",
       "      <td>2016-11-07</td>\n",
       "      <td>2016-11-08T12:16:30Z</td>\n",
       "      <td>NaN</td>\n",
       "      <td>Likely Voters - independent</td>\n",
       "      <td>Internet</td>\n",
       "      <td>38.0</td>\n",
       "      <td>43.0</td>\n",
       "      <td>4.0</td>\n",
       "      <td>7.0</td>\n",
       "      <td>None</td>\n",
       "    </tr>\n",
       "    <tr>\n",
       "      <th>4</th>\n",
       "      <td>IBD/TIPP</td>\n",
       "      <td>2016-11-04</td>\n",
       "      <td>2016-11-07</td>\n",
       "      <td>2016-11-08T12:10:06Z</td>\n",
       "      <td>1107.0</td>\n",
       "      <td>Likely Voters</td>\n",
       "      <td>Live Phone</td>\n",
       "      <td>43.0</td>\n",
       "      <td>41.0</td>\n",
       "      <td>4.0</td>\n",
       "      <td>5.0</td>\n",
       "      <td>None</td>\n",
       "    </tr>\n",
       "  </tbody>\n",
       "</table>\n",
       "</div>"
      ],
      "text/plain": [
       "        Pollster  Start Date    End Date  Entry Date/Time (ET)  \\\n",
       "0  Insights West  2016-11-04  2016-11-07  2016-11-08T12:16:30Z   \n",
       "1  Insights West  2016-11-04  2016-11-07  2016-11-08T12:16:30Z   \n",
       "2  Insights West  2016-11-04  2016-11-07  2016-11-08T12:16:30Z   \n",
       "3  Insights West  2016-11-04  2016-11-07  2016-11-08T12:16:30Z   \n",
       "4       IBD/TIPP  2016-11-04  2016-11-07  2016-11-08T12:10:06Z   \n",
       "\n",
       "   Number of Observations                   Population        Mode  Trump  \\\n",
       "0                   940.0                Likely Voters    Internet   41.0   \n",
       "1                     NaN     Likely Voters - Democrat    Internet    6.0   \n",
       "2                     NaN   Likely Voters - Republican    Internet   82.0   \n",
       "3                     NaN  Likely Voters - independent    Internet   38.0   \n",
       "4                  1107.0                Likely Voters  Live Phone   43.0   \n",
       "\n",
       "   Clinton  Other  Undecided Affiliation  \n",
       "0     45.0    2.0        8.0        None  \n",
       "1     89.0    0.0        4.0        None  \n",
       "2      7.0    2.0        6.0        None  \n",
       "3     43.0    4.0        7.0        None  \n",
       "4     41.0    4.0        5.0        None  "
      ]
     },
     "execution_count": 3,
     "metadata": {},
     "output_type": "execute_result"
    }
   ],
   "source": [
    "# Drop various colums from data as we dont need them\n",
    "poll = poll.drop(['Pollster URL','Source URL','Partisan','Question Text','Question Iteration'],axis=1)\n",
    "poll.head()"
   ]
  },
  {
   "cell_type": "code",
   "execution_count": 4,
   "metadata": {
    "colab": {
     "base_uri": "https://localhost:8080/",
     "height": 312
    },
    "colab_type": "code",
    "executionInfo": {
     "elapsed": 430,
     "status": "ok",
     "timestamp": 1578198657623,
     "user": {
      "displayName": "Rajeev Ratan",
      "photoUrl": "https://lh3.googleusercontent.com/a-/AAuE7mCGo6aIm0tOcd5EhqWlYb0rime9sBvHS9YMpx0D2w=s64",
      "userId": "08597265227091462140"
     },
     "user_tz": 240
    },
    "id": "ygXRNCGf-FP2",
    "outputId": "21f3ce90-b4ec-433a-cee2-a63d231acaa7"
   },
   "outputs": [
    {
     "name": "stdout",
     "output_type": "stream",
     "text": [
      "<class 'pandas.core.frame.DataFrame'>\n",
      "RangeIndex: 1522 entries, 0 to 1521\n",
      "Data columns (total 12 columns):\n",
      " #   Column                  Non-Null Count  Dtype  \n",
      "---  ------                  --------------  -----  \n",
      " 0   Pollster                1522 non-null   object \n",
      " 1   Start Date              1522 non-null   object \n",
      " 2   End Date                1522 non-null   object \n",
      " 3   Entry Date/Time (ET)    1522 non-null   object \n",
      " 4   Number of Observations  1013 non-null   float64\n",
      " 5   Population              1522 non-null   object \n",
      " 6   Mode                    1522 non-null   object \n",
      " 7   Trump                   1522 non-null   float64\n",
      " 8   Clinton                 1522 non-null   float64\n",
      " 9   Other                   1098 non-null   float64\n",
      " 10  Undecided               1460 non-null   float64\n",
      " 11  Affiliation             1522 non-null   object \n",
      "dtypes: float64(5), object(7)\n",
      "memory usage: 142.8+ KB\n"
     ]
    }
   ],
   "source": [
    "# Glimpse of data\n",
    "poll.info()"
   ]
  },
  {
   "cell_type": "code",
   "execution_count": 5,
   "metadata": {
    "colab": {
     "base_uri": "https://localhost:8080/",
     "height": 548
    },
    "colab_type": "code",
    "executionInfo": {
     "elapsed": 888,
     "status": "ok",
     "timestamp": 1578198666428,
     "user": {
      "displayName": "Rajeev Ratan",
      "photoUrl": "https://lh3.googleusercontent.com/a-/AAuE7mCGo6aIm0tOcd5EhqWlYb0rime9sBvHS9YMpx0D2w=s64",
      "userId": "08597265227091462140"
     },
     "user_tz": 240
    },
    "id": "faNQd1qN-Gg-",
    "outputId": "08b89810-9c4a-4cbf-d192-4d78fe5215c8"
   },
   "outputs": [
    {
     "name": "stderr",
     "output_type": "stream",
     "text": [
      "C:\\ProgramData\\Anaconda3\\lib\\site-packages\\seaborn\\categorical.py:3704: UserWarning: The `factorplot` function has been renamed to `catplot`. The original name will be removed in a future release. Please update your code. Note that the default `kind` in `factorplot` (`'point'`) has changed `'strip'` in `catplot`.\n",
      "  warnings.warn(msg)\n",
      "C:\\ProgramData\\Anaconda3\\lib\\site-packages\\seaborn\\categorical.py:3710: UserWarning: The `size` parameter has been renamed to `height`; please update your code.\n",
      "  warnings.warn(msg, UserWarning)\n",
      "C:\\ProgramData\\Anaconda3\\lib\\site-packages\\seaborn\\_decorators.py:43: FutureWarning: Pass the following variable as a keyword arg: x. From version 0.12, the only valid positional argument will be `data`, and passing other arguments without an explicit keyword will result in an error or misinterpretation.\n",
      "  FutureWarning\n"
     ]
    },
    {
     "data": {
      "text/plain": [
       "<seaborn.axisgrid.FacetGrid at 0x225cd89ba88>"
      ]
     },
     "execution_count": 5,
     "metadata": {},
     "output_type": "execute_result"
    },
    {
     "data": {
      "image/png": "[encoded data removed]",
      "text/plain": [
       "<Figure size 432x432 with 1 Axes>"
      ]
     },
     "metadata": {},
     "output_type": "display_data"
    }
   ],
   "source": [
    "# Quick visualization overview of the affiliation for the polls\n",
    "sns.factorplot('Affiliation',data=poll,kind='count',legend=True,color='orange',size=6)"
   ]
  },
  {
   "cell_type": "code",
   "execution_count": 6,
   "metadata": {
    "colab": {
     "base_uri": "https://localhost:8080/",
     "height": 548
    },
    "colab_type": "code",
    "executionInfo": {
     "elapsed": 1306,
     "status": "ok",
     "timestamp": 1578198672854,
     "user": {
      "displayName": "Rajeev Ratan",
      "photoUrl": "https://lh3.googleusercontent.com/a-/AAuE7mCGo6aIm0tOcd5EhqWlYb0rime9sBvHS9YMpx0D2w=s64",
      "userId": "08597265227091462140"
     },
     "user_tz": 240
    },
    "id": "fyLMp8pM-IjM",
    "outputId": "17d7ea7e-b462-4015-aee4-2457b113c4b0"
   },
   "outputs": [
    {
     "name": "stderr",
     "output_type": "stream",
     "text": [
      "C:\\ProgramData\\Anaconda3\\lib\\site-packages\\seaborn\\categorical.py:3704: UserWarning: The `factorplot` function has been renamed to `catplot`. The original name will be removed in a future release. Please update your code. Note that the default `kind` in `factorplot` (`'point'`) has changed `'strip'` in `catplot`.\n",
      "  warnings.warn(msg)\n",
      "C:\\ProgramData\\Anaconda3\\lib\\site-packages\\seaborn\\categorical.py:3710: UserWarning: The `size` parameter has been renamed to `height`; please update your code.\n",
      "  warnings.warn(msg, UserWarning)\n",
      "C:\\ProgramData\\Anaconda3\\lib\\site-packages\\seaborn\\_decorators.py:43: FutureWarning: Pass the following variable as a keyword arg: x. From version 0.12, the only valid positional argument will be `data`, and passing other arguments without an explicit keyword will result in an error or misinterpretation.\n",
      "  FutureWarning\n"
     ]
    },
    {
     "data": {
      "text/plain": [
       "<seaborn.axisgrid.FacetGrid at 0x225cf930208>"
      ]
     },
     "execution_count": 6,
     "metadata": {},
     "output_type": "execute_result"
    },
    {
     "data": {
      "image/png": "[encoded data removed]",
      "text/plain": [
       "<Figure size 1258.7x432 with 1 Axes>"
      ]
     },
     "metadata": {},
     "output_type": "display_data"
    }
   ],
   "source": [
    "sns.factorplot('Affiliation',data=poll,kind='count',legend=True,hue='Population',size=6,aspect=2,palette='dark')"
   ]
  },
  {
   "cell_type": "code",
   "execution_count": 10,
   "metadata": {
    "colab": {
     "base_uri": "https://localhost:8080/",
     "height": 171
    },
    "colab_type": "code",
    "executionInfo": {
     "elapsed": 454,
     "status": "ok",
     "timestamp": 1578198679149,
     "user": {
      "displayName": "Rajeev Ratan",
      "photoUrl": "https://lh3.googleusercontent.com/a-/AAuE7mCGo6aIm0tOcd5EhqWlYb0rime9sBvHS9YMpx0D2w=s64",
      "userId": "08597265227091462140"
     },
     "user_tz": 240
    },
    "id": "66k8sK4c-KBX",
    "outputId": "fe471b7f-943a-43de-ddac-84ffbfa98916"
   },
   "outputs": [
    {
     "data": {
      "text/html": [
       "<div>\n",
       "<style scoped>\n",
       "    .dataframe tbody tr th:only-of-type {\n",
       "        vertical-align: middle;\n",
       "    }\n",
       "\n",
       "    .dataframe tbody tr th {\n",
       "        vertical-align: top;\n",
       "    }\n",
       "\n",
       "    .dataframe thead th {\n",
       "        text-align: right;\n",
       "    }\n",
       "</style>\n",
       "<table border=\"1\" class=\"dataframe\">\n",
       "  <thead>\n",
       "    <tr style=\"text-align: right;\">\n",
       "      <th></th>\n",
       "      <th>0</th>\n",
       "    </tr>\n",
       "  </thead>\n",
       "  <tbody>\n",
       "    <tr>\n",
       "      <th>Trump</th>\n",
       "      <td>40.643890</td>\n",
       "    </tr>\n",
       "    <tr>\n",
       "      <th>Clinton</th>\n",
       "      <td>42.733903</td>\n",
       "    </tr>\n",
       "    <tr>\n",
       "      <th>Other</th>\n",
       "      <td>5.806011</td>\n",
       "    </tr>\n",
       "    <tr>\n",
       "      <th>Undecided</th>\n",
       "      <td>9.315068</td>\n",
       "    </tr>\n",
       "  </tbody>\n",
       "</table>\n",
       "</div>"
      ],
      "text/plain": [
       "                   0\n",
       "Trump      40.643890\n",
       "Clinton    42.733903\n",
       "Other       5.806011\n",
       "Undecided   9.315068"
      ]
     },
     "execution_count": 10,
     "metadata": {},
     "output_type": "execute_result"
    }
   ],
   "source": [
    "# Averages of different candidates\n",
    "\n",
    "average=pd.DataFrame(poll.mean())\n",
    "average.drop('Number of Observations',inplace=True)\n",
    "average"
   ]
  },
  {
   "cell_type": "code",
   "execution_count": 11,
   "metadata": {
    "colab": {
     "base_uri": "https://localhost:8080/",
     "height": 171
    },
    "colab_type": "code",
    "executionInfo": {
     "elapsed": 433,
     "status": "ok",
     "timestamp": 1578198686011,
     "user": {
      "displayName": "Rajeev Ratan",
      "photoUrl": "https://lh3.googleusercontent.com/a-/AAuE7mCGo6aIm0tOcd5EhqWlYb0rime9sBvHS9YMpx0D2w=s64",
      "userId": "08597265227091462140"
     },
     "user_tz": 240
    },
    "id": "AdGEp1MC-Lw0",
    "outputId": "424caf49-15fd-4afc-ac1d-02c97ae3de85"
   },
   "outputs": [
    {
     "data": {
      "text/html": [
       "<div>\n",
       "<style scoped>\n",
       "    .dataframe tbody tr th:only-of-type {\n",
       "        vertical-align: middle;\n",
       "    }\n",
       "\n",
       "    .dataframe tbody tr th {\n",
       "        vertical-align: top;\n",
       "    }\n",
       "\n",
       "    .dataframe thead th {\n",
       "        text-align: right;\n",
       "    }\n",
       "</style>\n",
       "<table border=\"1\" class=\"dataframe\">\n",
       "  <thead>\n",
       "    <tr style=\"text-align: right;\">\n",
       "      <th></th>\n",
       "      <th>0</th>\n",
       "    </tr>\n",
       "  </thead>\n",
       "  <tbody>\n",
       "    <tr>\n",
       "      <th>Trump</th>\n",
       "      <td>23.566390</td>\n",
       "    </tr>\n",
       "    <tr>\n",
       "      <th>Clinton</th>\n",
       "      <td>25.298731</td>\n",
       "    </tr>\n",
       "    <tr>\n",
       "      <th>Other</th>\n",
       "      <td>5.009533</td>\n",
       "    </tr>\n",
       "    <tr>\n",
       "      <th>Undecided</th>\n",
       "      <td>6.253118</td>\n",
       "    </tr>\n",
       "  </tbody>\n",
       "</table>\n",
       "</div>"
      ],
      "text/plain": [
       "                   0\n",
       "Trump      23.566390\n",
       "Clinton    25.298731\n",
       "Other       5.009533\n",
       "Undecided   6.253118"
      ]
     },
     "execution_count": 11,
     "metadata": {},
     "output_type": "execute_result"
    }
   ],
   "source": [
    "# Standard Deviation to get the error\n",
    "\n",
    "std=pd.DataFrame(poll.std())\n",
    "std.drop('Number of Observations',inplace=True)\n",
    "std"
   ]
  },
  {
   "cell_type": "code",
   "execution_count": 12,
   "metadata": {
    "colab": {
     "base_uri": "https://localhost:8080/",
     "height": 709
    },
    "colab_type": "code",
    "executionInfo": {
     "elapsed": 834,
     "status": "ok",
     "timestamp": 1578198692071,
     "user": {
      "displayName": "Rajeev Ratan",
      "photoUrl": "https://lh3.googleusercontent.com/a-/AAuE7mCGo6aIm0tOcd5EhqWlYb0rime9sBvHS9YMpx0D2w=s64",
      "userId": "08597265227091462140"
     },
     "user_tz": 240
    },
    "id": "PDBbq6yJ-NcP",
    "outputId": "48863acc-e8fc-41c6-84c8-abf20ddc44ee"
   },
   "outputs": [
    {
     "data": {
      "text/plain": [
       "<AxesSubplot:>"
      ]
     },
     "execution_count": 12,
     "metadata": {},
     "output_type": "execute_result"
    },
    {
     "data": {
      "image/png": "[encoded data removed]",
      "text/plain": [
       "<Figure size 432x288 with 1 Axes>"
      ]
     },
     "metadata": {},
     "output_type": "display_data"
    }
   ],
   "source": [
    "average.plot(yerr=std,kind='bar',legend=False,color='seagreen',fontsize=20)"
   ]
  },
  {
   "cell_type": "code",
   "execution_count": 14,
   "metadata": {
    "colab": {
     "base_uri": "https://localhost:8080/",
     "height": 226
    },
    "colab_type": "code",
    "executionInfo": {
     "elapsed": 423,
     "status": "ok",
     "timestamp": 1578198698518,
     "user": {
      "displayName": "Rajeev Ratan",
      "photoUrl": "https://lh3.googleusercontent.com/a-/AAuE7mCGo6aIm0tOcd5EhqWlYb0rime9sBvHS9YMpx0D2w=s64",
      "userId": "08597265227091462140"
     },
     "user_tz": 240
    },
    "id": "qZJqt9WD-O1H",
    "outputId": "78c00c5f-e713-4060-c4b3-e6c16cdfe1ea"
   },
   "outputs": [
    {
     "name": "stderr",
     "output_type": "stream",
     "text": [
      "C:\\ProgramData\\Anaconda3\\lib\\site-packages\\ipykernel_launcher.py:4: UserWarning: Pandas doesn't allow columns to be created via a new attribute name - see https://pandas.pydata.org/pandas-docs/stable/indexing.html#attribute-access\n",
      "  after removing the cwd from sys.path.\n"
     ]
    },
    {
     "data": {
      "text/html": [
       "<div>\n",
       "<style scoped>\n",
       "    .dataframe tbody tr th:only-of-type {\n",
       "        vertical-align: middle;\n",
       "    }\n",
       "\n",
       "    .dataframe tbody tr th {\n",
       "        vertical-align: top;\n",
       "    }\n",
       "\n",
       "    .dataframe thead th {\n",
       "        text-align: right;\n",
       "    }\n",
       "</style>\n",
       "<table border=\"1\" class=\"dataframe\">\n",
       "  <thead>\n",
       "    <tr style=\"text-align: right;\">\n",
       "      <th></th>\n",
       "      <th>0</th>\n",
       "      <th>0</th>\n",
       "    </tr>\n",
       "  </thead>\n",
       "  <tbody>\n",
       "    <tr>\n",
       "      <th>Trump</th>\n",
       "      <td>40.643890</td>\n",
       "      <td>23.566390</td>\n",
       "    </tr>\n",
       "    <tr>\n",
       "      <th>Clinton</th>\n",
       "      <td>42.733903</td>\n",
       "      <td>25.298731</td>\n",
       "    </tr>\n",
       "    <tr>\n",
       "      <th>Other</th>\n",
       "      <td>5.806011</td>\n",
       "      <td>5.009533</td>\n",
       "    </tr>\n",
       "    <tr>\n",
       "      <th>Undecided</th>\n",
       "      <td>9.315068</td>\n",
       "      <td>6.253118</td>\n",
       "    </tr>\n",
       "  </tbody>\n",
       "</table>\n",
       "</div>"
      ],
      "text/plain": [
       "                   0          0\n",
       "Trump      40.643890  23.566390\n",
       "Clinton    42.733903  25.298731\n",
       "Other       5.806011   5.009533\n",
       "Undecided   9.315068   6.253118"
      ]
     },
     "execution_count": 14,
     "metadata": {},
     "output_type": "execute_result"
    }
   ],
   "source": [
    "# Consider undecided factor\n",
    "\n",
    "poll_avg=pd.concat([average,std],axis=1)\n",
    "poll_avg.column=['Average','STD']\n",
    "poll_avg"
   ]
  },
  {
   "cell_type": "markdown",
   "metadata": {
    "colab_type": "text",
    "id": "nC0jAdBt-S2O"
   },
   "source": [
    "The polls indicate a fairly close race, but what about the undecided voters?\n",
    "\n",
    "Most of them will likely vote for one of the candidates once the election occurs.\n",
    "\n",
    "Split the undecided evenly between the two candidates."
   ]
  },
  {
   "cell_type": "code",
   "execution_count": 15,
   "metadata": {
    "colab": {
     "base_uri": "https://localhost:8080/",
     "height": 673
    },
    "colab_type": "code",
    "executionInfo": {
     "elapsed": 1070,
     "status": "ok",
     "timestamp": 1578198723274,
     "user": {
      "displayName": "Rajeev Ratan",
      "photoUrl": "https://lh3.googleusercontent.com/a-/AAuE7mCGo6aIm0tOcd5EhqWlYb0rime9sBvHS9YMpx0D2w=s64",
      "userId": "08597265227091462140"
     },
     "user_tz": 240
    },
    "id": "zt2ENxyM-QgJ",
    "outputId": "a5bf5cc6-1454-425b-998f-ab768aff5059"
   },
   "outputs": [
    {
     "data": {
      "text/plain": [
       "<matplotlib.legend.Legend at 0x225ba8a80c8>"
      ]
     },
     "execution_count": 15,
     "metadata": {},
     "output_type": "execute_result"
    },
    {
     "data": {
      "image/png": "[encoded data removed]",
      "text/plain": [
       "<Figure size 432x288 with 1 Axes>"
      ]
     },
     "metadata": {},
     "output_type": "display_data"
    }
   ],
   "source": [
    "# Time series plot of favour of voters against time\n",
    "poll.plot(x='End Date',y=['Trump','Clinton','Other','Undecided'],linestyle='',marker='s').legend(bbox_to_anchor=(1.5, 1))"
   ]
  },
  {
   "cell_type": "code",
   "execution_count": 17,
   "metadata": {
    "colab": {
     "base_uri": "https://localhost:8080/",
     "height": 395
    },
    "colab_type": "code",
    "executionInfo": {
     "elapsed": 471,
     "status": "ok",
     "timestamp": 1578198734752,
     "user": {
      "displayName": "Rajeev Ratan",
      "photoUrl": "https://lh3.googleusercontent.com/a-/AAuE7mCGo6aIm0tOcd5EhqWlYb0rime9sBvHS9YMpx0D2w=s64",
      "userId": "08597265227091462140"
     },
     "user_tz": 240
    },
    "id": "7fx3BAos-WYR",
    "outputId": "51f551f2-4c5a-4bf8-c9d5-4882e5cd17cc"
   },
   "outputs": [
    {
     "data": {
      "text/html": [
       "<div>\n",
       "<style scoped>\n",
       "    .dataframe tbody tr th:only-of-type {\n",
       "        vertical-align: middle;\n",
       "    }\n",
       "\n",
       "    .dataframe tbody tr th {\n",
       "        vertical-align: top;\n",
       "    }\n",
       "\n",
       "    .dataframe thead th {\n",
       "        text-align: right;\n",
       "    }\n",
       "</style>\n",
       "<table border=\"1\" class=\"dataframe\">\n",
       "  <thead>\n",
       "    <tr style=\"text-align: right;\">\n",
       "      <th></th>\n",
       "      <th>Pollster</th>\n",
       "      <th>Start Date</th>\n",
       "      <th>End Date</th>\n",
       "      <th>Entry Date/Time (ET)</th>\n",
       "      <th>Number of Observations</th>\n",
       "      <th>Population</th>\n",
       "      <th>Mode</th>\n",
       "      <th>Trump</th>\n",
       "      <th>Clinton</th>\n",
       "      <th>Other</th>\n",
       "      <th>Undecided</th>\n",
       "      <th>Affiliation</th>\n",
       "      <th>Difference</th>\n",
       "    </tr>\n",
       "  </thead>\n",
       "  <tbody>\n",
       "    <tr>\n",
       "      <th>0</th>\n",
       "      <td>Insights West</td>\n",
       "      <td>2016-11-04</td>\n",
       "      <td>2016-11-07</td>\n",
       "      <td>2016-11-08T12:16:30Z</td>\n",
       "      <td>940.0</td>\n",
       "      <td>Likely Voters</td>\n",
       "      <td>Internet</td>\n",
       "      <td>41.0</td>\n",
       "      <td>45.0</td>\n",
       "      <td>2.0</td>\n",
       "      <td>8.0</td>\n",
       "      <td>None</td>\n",
       "      <td>-0.04</td>\n",
       "    </tr>\n",
       "    <tr>\n",
       "      <th>1</th>\n",
       "      <td>Insights West</td>\n",
       "      <td>2016-11-04</td>\n",
       "      <td>2016-11-07</td>\n",
       "      <td>2016-11-08T12:16:30Z</td>\n",
       "      <td>NaN</td>\n",
       "      <td>Likely Voters - Democrat</td>\n",
       "      <td>Internet</td>\n",
       "      <td>6.0</td>\n",
       "      <td>89.0</td>\n",
       "      <td>0.0</td>\n",
       "      <td>4.0</td>\n",
       "      <td>None</td>\n",
       "      <td>-0.83</td>\n",
       "    </tr>\n",
       "    <tr>\n",
       "      <th>2</th>\n",
       "      <td>Insights West</td>\n",
       "      <td>2016-11-04</td>\n",
       "      <td>2016-11-07</td>\n",
       "      <td>2016-11-08T12:16:30Z</td>\n",
       "      <td>NaN</td>\n",
       "      <td>Likely Voters - Republican</td>\n",
       "      <td>Internet</td>\n",
       "      <td>82.0</td>\n",
       "      <td>7.0</td>\n",
       "      <td>2.0</td>\n",
       "      <td>6.0</td>\n",
       "      <td>None</td>\n",
       "      <td>0.75</td>\n",
       "    </tr>\n",
       "    <tr>\n",
       "      <th>3</th>\n",
       "      <td>Insights West</td>\n",
       "      <td>2016-11-04</td>\n",
       "      <td>2016-11-07</td>\n",
       "      <td>2016-11-08T12:16:30Z</td>\n",
       "      <td>NaN</td>\n",
       "      <td>Likely Voters - independent</td>\n",
       "      <td>Internet</td>\n",
       "      <td>38.0</td>\n",
       "      <td>43.0</td>\n",
       "      <td>4.0</td>\n",
       "      <td>7.0</td>\n",
       "      <td>None</td>\n",
       "      <td>-0.05</td>\n",
       "    </tr>\n",
       "    <tr>\n",
       "      <th>4</th>\n",
       "      <td>IBD/TIPP</td>\n",
       "      <td>2016-11-04</td>\n",
       "      <td>2016-11-07</td>\n",
       "      <td>2016-11-08T12:10:06Z</td>\n",
       "      <td>1107.0</td>\n",
       "      <td>Likely Voters</td>\n",
       "      <td>Live Phone</td>\n",
       "      <td>43.0</td>\n",
       "      <td>41.0</td>\n",
       "      <td>4.0</td>\n",
       "      <td>5.0</td>\n",
       "      <td>None</td>\n",
       "      <td>0.02</td>\n",
       "    </tr>\n",
       "    <tr>\n",
       "      <th>...</th>\n",
       "      <td>...</td>\n",
       "      <td>...</td>\n",
       "      <td>...</td>\n",
       "      <td>...</td>\n",
       "      <td>...</td>\n",
       "      <td>...</td>\n",
       "      <td>...</td>\n",
       "      <td>...</td>\n",
       "      <td>...</td>\n",
       "      <td>...</td>\n",
       "      <td>...</td>\n",
       "      <td>...</td>\n",
       "      <td>...</td>\n",
       "    </tr>\n",
       "    <tr>\n",
       "      <th>95</th>\n",
       "      <td>YouGov/Economist</td>\n",
       "      <td>2016-10-22</td>\n",
       "      <td>2016-10-26</td>\n",
       "      <td>2016-10-27T17:52:01Z</td>\n",
       "      <td>1209.0</td>\n",
       "      <td>Likely Voters</td>\n",
       "      <td>Internet</td>\n",
       "      <td>41.0</td>\n",
       "      <td>46.0</td>\n",
       "      <td>3.0</td>\n",
       "      <td>7.0</td>\n",
       "      <td>None</td>\n",
       "      <td>-0.05</td>\n",
       "    </tr>\n",
       "    <tr>\n",
       "      <th>96</th>\n",
       "      <td>YouGov/Economist</td>\n",
       "      <td>2016-10-22</td>\n",
       "      <td>2016-10-26</td>\n",
       "      <td>2016-10-27T17:52:01Z</td>\n",
       "      <td>501.0</td>\n",
       "      <td>Likely Voters - Democrat</td>\n",
       "      <td>Internet</td>\n",
       "      <td>4.0</td>\n",
       "      <td>91.0</td>\n",
       "      <td>1.0</td>\n",
       "      <td>3.0</td>\n",
       "      <td>None</td>\n",
       "      <td>-0.87</td>\n",
       "    </tr>\n",
       "    <tr>\n",
       "      <th>97</th>\n",
       "      <td>YouGov/Economist</td>\n",
       "      <td>2016-10-22</td>\n",
       "      <td>2016-10-26</td>\n",
       "      <td>2016-10-27T17:52:01Z</td>\n",
       "      <td>305.0</td>\n",
       "      <td>Likely Voters - Republican</td>\n",
       "      <td>Internet</td>\n",
       "      <td>82.0</td>\n",
       "      <td>7.0</td>\n",
       "      <td>2.0</td>\n",
       "      <td>6.0</td>\n",
       "      <td>None</td>\n",
       "      <td>0.75</td>\n",
       "    </tr>\n",
       "    <tr>\n",
       "      <th>98</th>\n",
       "      <td>YouGov/Economist</td>\n",
       "      <td>2016-10-22</td>\n",
       "      <td>2016-10-26</td>\n",
       "      <td>2016-10-27T17:52:01Z</td>\n",
       "      <td>403.0</td>\n",
       "      <td>Likely Voters - independent</td>\n",
       "      <td>Internet</td>\n",
       "      <td>45.0</td>\n",
       "      <td>31.0</td>\n",
       "      <td>5.0</td>\n",
       "      <td>11.0</td>\n",
       "      <td>None</td>\n",
       "      <td>0.14</td>\n",
       "    </tr>\n",
       "    <tr>\n",
       "      <th>99</th>\n",
       "      <td>Lucid/The Times-Picayune</td>\n",
       "      <td>2016-10-23</td>\n",
       "      <td>2016-10-25</td>\n",
       "      <td>2016-10-26T19:10:12Z</td>\n",
       "      <td>875.0</td>\n",
       "      <td>Likely Voters</td>\n",
       "      <td>Internet</td>\n",
       "      <td>39.0</td>\n",
       "      <td>43.0</td>\n",
       "      <td>2.0</td>\n",
       "      <td>10.0</td>\n",
       "      <td>None</td>\n",
       "      <td>-0.04</td>\n",
       "    </tr>\n",
       "  </tbody>\n",
       "</table>\n",
       "<p>100 rows × 13 columns</p>\n",
       "</div>"
      ],
      "text/plain": [
       "                    Pollster  Start Date    End Date  Entry Date/Time (ET)  \\\n",
       "0              Insights West  2016-11-04  2016-11-07  2016-11-08T12:16:30Z   \n",
       "1              Insights West  2016-11-04  2016-11-07  2016-11-08T12:16:30Z   \n",
       "2              Insights West  2016-11-04  2016-11-07  2016-11-08T12:16:30Z   \n",
       "3              Insights West  2016-11-04  2016-11-07  2016-11-08T12:16:30Z   \n",
       "4                   IBD/TIPP  2016-11-04  2016-11-07  2016-11-08T12:10:06Z   \n",
       "..                       ...         ...         ...                   ...   \n",
       "95          YouGov/Economist  2016-10-22  2016-10-26  2016-10-27T17:52:01Z   \n",
       "96          YouGov/Economist  2016-10-22  2016-10-26  2016-10-27T17:52:01Z   \n",
       "97          YouGov/Economist  2016-10-22  2016-10-26  2016-10-27T17:52:01Z   \n",
       "98          YouGov/Economist  2016-10-22  2016-10-26  2016-10-27T17:52:01Z   \n",
       "99  Lucid/The Times-Picayune  2016-10-23  2016-10-25  2016-10-26T19:10:12Z   \n",
       "\n",
       "    Number of Observations                   Population        Mode  Trump  \\\n",
       "0                    940.0                Likely Voters    Internet   41.0   \n",
       "1                      NaN     Likely Voters - Democrat    Internet    6.0   \n",
       "2                      NaN   Likely Voters - Republican    Internet   82.0   \n",
       "3                      NaN  Likely Voters - independent    Internet   38.0   \n",
       "4                   1107.0                Likely Voters  Live Phone   43.0   \n",
       "..                     ...                          ...         ...    ...   \n",
       "95                  1209.0                Likely Voters    Internet   41.0   \n",
       "96                   501.0     Likely Voters - Democrat    Internet    4.0   \n",
       "97                   305.0   Likely Voters - Republican    Internet   82.0   \n",
       "98                   403.0  Likely Voters - independent    Internet   45.0   \n",
       "99                   875.0                Likely Voters    Internet   39.0   \n",
       "\n",
       "    Clinton  Other  Undecided Affiliation  Difference  \n",
       "0      45.0    2.0        8.0        None       -0.04  \n",
       "1      89.0    0.0        4.0        None       -0.83  \n",
       "2       7.0    2.0        6.0        None        0.75  \n",
       "3      43.0    4.0        7.0        None       -0.05  \n",
       "4      41.0    4.0        5.0        None        0.02  \n",
       "..      ...    ...        ...         ...         ...  \n",
       "95     46.0    3.0        7.0        None       -0.05  \n",
       "96     91.0    1.0        3.0        None       -0.87  \n",
       "97      7.0    2.0        6.0        None        0.75  \n",
       "98     31.0    5.0       11.0        None        0.14  \n",
       "99     43.0    2.0       10.0        None       -0.04  \n",
       "\n",
       "[100 rows x 13 columns]"
      ]
     },
     "execution_count": 17,
     "metadata": {},
     "output_type": "execute_result"
    }
   ],
   "source": [
    "# Plot out the difference between Tump and Clinton and how it changes as time moves along\n",
    "from datetime import datetime\n",
    "\n",
    "poll['Difference']=(poll.Trump-poll.Clinton)/100\n",
    "poll.head(100)"
   ]
  },
  {
   "cell_type": "code",
   "execution_count": 19,
   "metadata": {
    "colab": {
     "base_uri": "https://localhost:8080/",
     "height": 202
    },
    "colab_type": "code",
    "executionInfo": {
     "elapsed": 431,
     "status": "ok",
     "timestamp": 1578198741069,
     "user": {
      "displayName": "Rajeev Ratan",
      "photoUrl": "https://lh3.googleusercontent.com/a-/AAuE7mCGo6aIm0tOcd5EhqWlYb0rime9sBvHS9YMpx0D2w=s64",
      "userId": "08597265227091462140"
     },
     "user_tz": 240
    },
    "id": "RCtNpPyz-ZVY",
    "outputId": "e444c1d3-b6ff-4ece-aea3-6d5136166569"
   },
   "outputs": [
    {
     "data": {
      "text/html": [
       "<div>\n",
       "<style scoped>\n",
       "    .dataframe tbody tr th:only-of-type {\n",
       "        vertical-align: middle;\n",
       "    }\n",
       "\n",
       "    .dataframe tbody tr th {\n",
       "        vertical-align: top;\n",
       "    }\n",
       "\n",
       "    .dataframe thead th {\n",
       "        text-align: right;\n",
       "    }\n",
       "</style>\n",
       "<table border=\"1\" class=\"dataframe\">\n",
       "  <thead>\n",
       "    <tr style=\"text-align: right;\">\n",
       "      <th></th>\n",
       "      <th>Start Date</th>\n",
       "      <th>Number of Observations</th>\n",
       "      <th>Trump</th>\n",
       "      <th>Clinton</th>\n",
       "      <th>Other</th>\n",
       "      <th>Undecided</th>\n",
       "      <th>Difference</th>\n",
       "    </tr>\n",
       "  </thead>\n",
       "  <tbody>\n",
       "    <tr>\n",
       "      <th>0</th>\n",
       "      <td>2015-05-19</td>\n",
       "      <td>1046.000000</td>\n",
       "      <td>34.250000</td>\n",
       "      <td>48.750</td>\n",
       "      <td>2.50</td>\n",
       "      <td>14.000</td>\n",
       "      <td>-1.450000e-01</td>\n",
       "    </tr>\n",
       "    <tr>\n",
       "      <th>1</th>\n",
       "      <td>2015-06-20</td>\n",
       "      <td>420.750000</td>\n",
       "      <td>35.000000</td>\n",
       "      <td>47.250</td>\n",
       "      <td>NaN</td>\n",
       "      <td>17.750</td>\n",
       "      <td>-1.225000e-01</td>\n",
       "    </tr>\n",
       "    <tr>\n",
       "      <th>2</th>\n",
       "      <td>2015-06-21</td>\n",
       "      <td>1005.000000</td>\n",
       "      <td>34.000000</td>\n",
       "      <td>51.000</td>\n",
       "      <td>3.00</td>\n",
       "      <td>12.000</td>\n",
       "      <td>-1.700000e-01</td>\n",
       "    </tr>\n",
       "    <tr>\n",
       "      <th>3</th>\n",
       "      <td>2015-06-26</td>\n",
       "      <td>890.000000</td>\n",
       "      <td>36.750000</td>\n",
       "      <td>57.000</td>\n",
       "      <td>6.00</td>\n",
       "      <td>0.000</td>\n",
       "      <td>-2.025000e-01</td>\n",
       "    </tr>\n",
       "    <tr>\n",
       "      <th>4</th>\n",
       "      <td>2015-07-09</td>\n",
       "      <td>499.250000</td>\n",
       "      <td>35.250000</td>\n",
       "      <td>49.500</td>\n",
       "      <td>NaN</td>\n",
       "      <td>16.000</td>\n",
       "      <td>-1.425000e-01</td>\n",
       "    </tr>\n",
       "    <tr>\n",
       "      <th>5</th>\n",
       "      <td>2015-07-20</td>\n",
       "      <td>702.333333</td>\n",
       "      <td>38.750000</td>\n",
       "      <td>47.250</td>\n",
       "      <td>NaN</td>\n",
       "      <td>13.750</td>\n",
       "      <td>-8.500000e-02</td>\n",
       "    </tr>\n",
       "    <tr>\n",
       "      <th>6</th>\n",
       "      <td>2015-07-22</td>\n",
       "      <td>931.000000</td>\n",
       "      <td>40.000000</td>\n",
       "      <td>54.625</td>\n",
       "      <td>3.75</td>\n",
       "      <td>5.600</td>\n",
       "      <td>-1.462500e-01</td>\n",
       "    </tr>\n",
       "    <tr>\n",
       "      <th>7</th>\n",
       "      <td>2015-07-23</td>\n",
       "      <td>1011.666667</td>\n",
       "      <td>37.750000</td>\n",
       "      <td>47.750</td>\n",
       "      <td>3.50</td>\n",
       "      <td>11.000</td>\n",
       "      <td>-1.000000e-01</td>\n",
       "    </tr>\n",
       "    <tr>\n",
       "      <th>8</th>\n",
       "      <td>2015-07-26</td>\n",
       "      <td>950.000000</td>\n",
       "      <td>40.000000</td>\n",
       "      <td>49.000</td>\n",
       "      <td>NaN</td>\n",
       "      <td>12.000</td>\n",
       "      <td>-9.000000e-02</td>\n",
       "    </tr>\n",
       "    <tr>\n",
       "      <th>9</th>\n",
       "      <td>2015-07-31</td>\n",
       "      <td>3477.000000</td>\n",
       "      <td>49.000000</td>\n",
       "      <td>50.000</td>\n",
       "      <td>NaN</td>\n",
       "      <td>NaN</td>\n",
       "      <td>-1.000000e-02</td>\n",
       "    </tr>\n",
       "    <tr>\n",
       "      <th>10</th>\n",
       "      <td>2015-08-06</td>\n",
       "      <td>823.000000</td>\n",
       "      <td>29.000000</td>\n",
       "      <td>43.000</td>\n",
       "      <td>11.00</td>\n",
       "      <td>17.000</td>\n",
       "      <td>-1.400000e-01</td>\n",
       "    </tr>\n",
       "    <tr>\n",
       "      <th>11</th>\n",
       "      <td>2015-08-07</td>\n",
       "      <td>1014.500000</td>\n",
       "      <td>42.250000</td>\n",
       "      <td>45.250</td>\n",
       "      <td>NaN</td>\n",
       "      <td>12.750</td>\n",
       "      <td>-3.000000e-02</td>\n",
       "    </tr>\n",
       "    <tr>\n",
       "      <th>12</th>\n",
       "      <td>2015-08-11</td>\n",
       "      <td>1008.000000</td>\n",
       "      <td>42.000000</td>\n",
       "      <td>47.000</td>\n",
       "      <td>2.00</td>\n",
       "      <td>10.000</td>\n",
       "      <td>-5.000000e-02</td>\n",
       "    </tr>\n",
       "    <tr>\n",
       "      <th>13</th>\n",
       "      <td>2015-08-13</td>\n",
       "      <td>627.500000</td>\n",
       "      <td>44.750000</td>\n",
       "      <td>51.000</td>\n",
       "      <td>5.00</td>\n",
       "      <td>1.000</td>\n",
       "      <td>-6.250000e-02</td>\n",
       "    </tr>\n",
       "    <tr>\n",
       "      <th>14</th>\n",
       "      <td>2015-08-20</td>\n",
       "      <td>958.666667</td>\n",
       "      <td>43.250000</td>\n",
       "      <td>44.500</td>\n",
       "      <td>2.50</td>\n",
       "      <td>10.000</td>\n",
       "      <td>-1.250000e-02</td>\n",
       "    </tr>\n",
       "    <tr>\n",
       "      <th>15</th>\n",
       "      <td>2015-08-21</td>\n",
       "      <td>3567.000000</td>\n",
       "      <td>54.000000</td>\n",
       "      <td>46.000</td>\n",
       "      <td>NaN</td>\n",
       "      <td>NaN</td>\n",
       "      <td>8.000000e-02</td>\n",
       "    </tr>\n",
       "    <tr>\n",
       "      <th>16</th>\n",
       "      <td>2015-08-26</td>\n",
       "      <td>1115.000000</td>\n",
       "      <td>42.250000</td>\n",
       "      <td>51.500</td>\n",
       "      <td>NaN</td>\n",
       "      <td>6.250</td>\n",
       "      <td>-9.250000e-02</td>\n",
       "    </tr>\n",
       "    <tr>\n",
       "      <th>17</th>\n",
       "      <td>2015-08-28</td>\n",
       "      <td>1056.600000</td>\n",
       "      <td>44.750000</td>\n",
       "      <td>42.000</td>\n",
       "      <td>NaN</td>\n",
       "      <td>13.375</td>\n",
       "      <td>2.750000e-02</td>\n",
       "    </tr>\n",
       "    <tr>\n",
       "      <th>18</th>\n",
       "      <td>2015-09-02</td>\n",
       "      <td>900.000000</td>\n",
       "      <td>45.000000</td>\n",
       "      <td>40.000</td>\n",
       "      <td>NaN</td>\n",
       "      <td>16.000</td>\n",
       "      <td>5.000000e-02</td>\n",
       "    </tr>\n",
       "    <tr>\n",
       "      <th>19</th>\n",
       "      <td>2015-09-04</td>\n",
       "      <td>1469.000000</td>\n",
       "      <td>46.200000</td>\n",
       "      <td>47.600</td>\n",
       "      <td>3.25</td>\n",
       "      <td>7.500</td>\n",
       "      <td>-1.400000e-02</td>\n",
       "    </tr>\n",
       "    <tr>\n",
       "      <th>20</th>\n",
       "      <td>2015-09-05</td>\n",
       "      <td>955.000000</td>\n",
       "      <td>47.000000</td>\n",
       "      <td>43.000</td>\n",
       "      <td>NaN</td>\n",
       "      <td>11.000</td>\n",
       "      <td>4.000000e-02</td>\n",
       "    </tr>\n",
       "    <tr>\n",
       "      <th>21</th>\n",
       "      <td>2015-09-07</td>\n",
       "      <td>821.000000</td>\n",
       "      <td>43.000000</td>\n",
       "      <td>46.000</td>\n",
       "      <td>7.00</td>\n",
       "      <td>5.000</td>\n",
       "      <td>-3.000000e-02</td>\n",
       "    </tr>\n",
       "    <tr>\n",
       "      <th>22</th>\n",
       "      <td>2015-09-11</td>\n",
       "      <td>1011.500000</td>\n",
       "      <td>41.750000</td>\n",
       "      <td>41.750</td>\n",
       "      <td>NaN</td>\n",
       "      <td>16.500</td>\n",
       "      <td>-6.938894e-18</td>\n",
       "    </tr>\n",
       "    <tr>\n",
       "      <th>23</th>\n",
       "      <td>2015-09-17</td>\n",
       "      <td>966.000000</td>\n",
       "      <td>41.500000</td>\n",
       "      <td>47.250</td>\n",
       "      <td>1.75</td>\n",
       "      <td>9.250</td>\n",
       "      <td>-5.750000e-02</td>\n",
       "    </tr>\n",
       "    <tr>\n",
       "      <th>24</th>\n",
       "      <td>2015-09-18</td>\n",
       "      <td>4033.000000</td>\n",
       "      <td>41.000000</td>\n",
       "      <td>45.000</td>\n",
       "      <td>NaN</td>\n",
       "      <td>14.000</td>\n",
       "      <td>-4.000000e-02</td>\n",
       "    </tr>\n",
       "    <tr>\n",
       "      <th>25</th>\n",
       "      <td>2015-09-20</td>\n",
       "      <td>1006.500000</td>\n",
       "      <td>40.500000</td>\n",
       "      <td>47.500</td>\n",
       "      <td>6.50</td>\n",
       "      <td>5.500</td>\n",
       "      <td>-7.000000e-02</td>\n",
       "    </tr>\n",
       "    <tr>\n",
       "      <th>26</th>\n",
       "      <td>2015-09-24</td>\n",
       "      <td>771.500000</td>\n",
       "      <td>42.500000</td>\n",
       "      <td>44.500</td>\n",
       "      <td>NaN</td>\n",
       "      <td>13.250</td>\n",
       "      <td>-2.000000e-02</td>\n",
       "    </tr>\n",
       "    <tr>\n",
       "      <th>27</th>\n",
       "      <td>2015-09-30</td>\n",
       "      <td>2665.000000</td>\n",
       "      <td>52.000000</td>\n",
       "      <td>48.000</td>\n",
       "      <td>NaN</td>\n",
       "      <td>NaN</td>\n",
       "      <td>4.000000e-02</td>\n",
       "    </tr>\n",
       "    <tr>\n",
       "      <th>28</th>\n",
       "      <td>2015-10-01</td>\n",
       "      <td>838.666667</td>\n",
       "      <td>46.000000</td>\n",
       "      <td>41.250</td>\n",
       "      <td>NaN</td>\n",
       "      <td>12.750</td>\n",
       "      <td>4.750000e-02</td>\n",
       "    </tr>\n",
       "    <tr>\n",
       "      <th>29</th>\n",
       "      <td>2015-10-02</td>\n",
       "      <td>1983.000000</td>\n",
       "      <td>43.000000</td>\n",
       "      <td>41.000</td>\n",
       "      <td>NaN</td>\n",
       "      <td>16.000</td>\n",
       "      <td>2.000000e-02</td>\n",
       "    </tr>\n",
       "    <tr>\n",
       "      <th>30</th>\n",
       "      <td>2015-10-08</td>\n",
       "      <td>1001.000000</td>\n",
       "      <td>42.250000</td>\n",
       "      <td>42.250</td>\n",
       "      <td>NaN</td>\n",
       "      <td>15.500</td>\n",
       "      <td>1.387779e-17</td>\n",
       "    </tr>\n",
       "    <tr>\n",
       "      <th>31</th>\n",
       "      <td>2015-10-10</td>\n",
       "      <td>1004.000000</td>\n",
       "      <td>45.000000</td>\n",
       "      <td>40.000</td>\n",
       "      <td>4.00</td>\n",
       "      <td>10.000</td>\n",
       "      <td>5.000000e-02</td>\n",
       "    </tr>\n",
       "    <tr>\n",
       "      <th>32</th>\n",
       "      <td>2015-10-14</td>\n",
       "      <td>936.000000</td>\n",
       "      <td>45.500000</td>\n",
       "      <td>49.250</td>\n",
       "      <td>5.50</td>\n",
       "      <td>0.000</td>\n",
       "      <td>-3.750000e-02</td>\n",
       "    </tr>\n",
       "    <tr>\n",
       "      <th>33</th>\n",
       "      <td>2015-10-15</td>\n",
       "      <td>1008.500000</td>\n",
       "      <td>42.250000</td>\n",
       "      <td>43.250</td>\n",
       "      <td>NaN</td>\n",
       "      <td>14.500</td>\n",
       "      <td>-1.000000e-02</td>\n",
       "    </tr>\n",
       "    <tr>\n",
       "      <th>34</th>\n",
       "      <td>2015-10-16</td>\n",
       "      <td>783.000000</td>\n",
       "      <td>46.000000</td>\n",
       "      <td>44.000</td>\n",
       "      <td>NaN</td>\n",
       "      <td>10.000</td>\n",
       "      <td>2.000000e-02</td>\n",
       "    </tr>\n",
       "    <tr>\n",
       "      <th>35</th>\n",
       "      <td>2015-10-17</td>\n",
       "      <td>764.000000</td>\n",
       "      <td>38.000000</td>\n",
       "      <td>47.000</td>\n",
       "      <td>NaN</td>\n",
       "      <td>NaN</td>\n",
       "      <td>-9.000000e-02</td>\n",
       "    </tr>\n",
       "    <tr>\n",
       "      <th>36</th>\n",
       "      <td>2015-10-22</td>\n",
       "      <td>844.500000</td>\n",
       "      <td>43.000000</td>\n",
       "      <td>43.250</td>\n",
       "      <td>NaN</td>\n",
       "      <td>13.750</td>\n",
       "      <td>-2.500000e-03</td>\n",
       "    </tr>\n",
       "    <tr>\n",
       "      <th>37</th>\n",
       "      <td>2015-10-25</td>\n",
       "      <td>1000.000000</td>\n",
       "      <td>42.000000</td>\n",
       "      <td>50.000</td>\n",
       "      <td>6.00</td>\n",
       "      <td>2.000</td>\n",
       "      <td>-8.000000e-02</td>\n",
       "    </tr>\n",
       "    <tr>\n",
       "      <th>38</th>\n",
       "      <td>2015-10-26</td>\n",
       "      <td>2606.000000</td>\n",
       "      <td>49.000000</td>\n",
       "      <td>51.000</td>\n",
       "      <td>NaN</td>\n",
       "      <td>NaN</td>\n",
       "      <td>-2.000000e-02</td>\n",
       "    </tr>\n",
       "    <tr>\n",
       "      <th>39</th>\n",
       "      <td>2015-10-29</td>\n",
       "      <td>1003.400000</td>\n",
       "      <td>43.333333</td>\n",
       "      <td>49.000</td>\n",
       "      <td>2.00</td>\n",
       "      <td>7.000</td>\n",
       "      <td>-5.666667e-02</td>\n",
       "    </tr>\n",
       "    <tr>\n",
       "      <th>40</th>\n",
       "      <td>2015-10-30</td>\n",
       "      <td>1002.000000</td>\n",
       "      <td>37.000000</td>\n",
       "      <td>41.000</td>\n",
       "      <td>16.00</td>\n",
       "      <td>6.000</td>\n",
       "      <td>-4.000000e-02</td>\n",
       "    </tr>\n",
       "    <tr>\n",
       "      <th>41</th>\n",
       "      <td>2015-11-05</td>\n",
       "      <td>2001.000000</td>\n",
       "      <td>44.250000</td>\n",
       "      <td>41.250</td>\n",
       "      <td>NaN</td>\n",
       "      <td>14.500</td>\n",
       "      <td>3.000000e-02</td>\n",
       "    </tr>\n",
       "    <tr>\n",
       "      <th>42</th>\n",
       "      <td>2015-11-13</td>\n",
       "      <td>1000.500000</td>\n",
       "      <td>43.500000</td>\n",
       "      <td>42.500</td>\n",
       "      <td>NaN</td>\n",
       "      <td>14.000</td>\n",
       "      <td>1.000000e-02</td>\n",
       "    </tr>\n",
       "    <tr>\n",
       "      <th>43</th>\n",
       "      <td>2015-11-15</td>\n",
       "      <td>2360.000000</td>\n",
       "      <td>43.750000</td>\n",
       "      <td>50.750</td>\n",
       "      <td>NaN</td>\n",
       "      <td>5.750</td>\n",
       "      <td>-7.000000e-02</td>\n",
       "    </tr>\n",
       "    <tr>\n",
       "      <th>44</th>\n",
       "      <td>2015-11-16</td>\n",
       "      <td>1188.000000</td>\n",
       "      <td>45.800000</td>\n",
       "      <td>42.400</td>\n",
       "      <td>2.00</td>\n",
       "      <td>11.600</td>\n",
       "      <td>3.400000e-02</td>\n",
       "    </tr>\n",
       "    <tr>\n",
       "      <th>45</th>\n",
       "      <td>2015-11-23</td>\n",
       "      <td>899.333333</td>\n",
       "      <td>41.750000</td>\n",
       "      <td>47.500</td>\n",
       "      <td>2.00</td>\n",
       "      <td>9.000</td>\n",
       "      <td>-5.750000e-02</td>\n",
       "    </tr>\n",
       "    <tr>\n",
       "      <th>46</th>\n",
       "      <td>2015-11-27</td>\n",
       "      <td>930.000000</td>\n",
       "      <td>46.750000</td>\n",
       "      <td>48.750</td>\n",
       "      <td>4.25</td>\n",
       "      <td>0.000</td>\n",
       "      <td>-2.000000e-02</td>\n",
       "    </tr>\n",
       "    <tr>\n",
       "      <th>47</th>\n",
       "      <td>2015-11-29</td>\n",
       "      <td>746.000000</td>\n",
       "      <td>37.000000</td>\n",
       "      <td>51.000</td>\n",
       "      <td>NaN</td>\n",
       "      <td>NaN</td>\n",
       "      <td>-1.400000e-01</td>\n",
       "    </tr>\n",
       "    <tr>\n",
       "      <th>48</th>\n",
       "      <td>2015-12-02</td>\n",
       "      <td>496.500000</td>\n",
       "      <td>44.750000</td>\n",
       "      <td>46.500</td>\n",
       "      <td>NaN</td>\n",
       "      <td>8.500</td>\n",
       "      <td>-1.750000e-02</td>\n",
       "    </tr>\n",
       "    <tr>\n",
       "      <th>49</th>\n",
       "      <td>2015-12-03</td>\n",
       "      <td>1023.500000</td>\n",
       "      <td>44.750000</td>\n",
       "      <td>40.500</td>\n",
       "      <td>NaN</td>\n",
       "      <td>15.000</td>\n",
       "      <td>4.250000e-02</td>\n",
       "    </tr>\n",
       "  </tbody>\n",
       "</table>\n",
       "</div>"
      ],
      "text/plain": [
       "    Start Date  Number of Observations      Trump  Clinton  Other  Undecided  \\\n",
       "0   2015-05-19             1046.000000  34.250000   48.750   2.50     14.000   \n",
       "1   2015-06-20              420.750000  35.000000   47.250    NaN     17.750   \n",
       "2   2015-06-21             1005.000000  34.000000   51.000   3.00     12.000   \n",
       "3   2015-06-26              890.000000  36.750000   57.000   6.00      0.000   \n",
       "4   2015-07-09              499.250000  35.250000   49.500    NaN     16.000   \n",
       "5   2015-07-20              702.333333  38.750000   47.250    NaN     13.750   \n",
       "6   2015-07-22              931.000000  40.000000   54.625   3.75      5.600   \n",
       "7   2015-07-23             1011.666667  37.750000   47.750   3.50     11.000   \n",
       "8   2015-07-26              950.000000  40.000000   49.000    NaN     12.000   \n",
       "9   2015-07-31             3477.000000  49.000000   50.000    NaN        NaN   \n",
       "10  2015-08-06              823.000000  29.000000   43.000  11.00     17.000   \n",
       "11  2015-08-07             1014.500000  42.250000   45.250    NaN     12.750   \n",
       "12  2015-08-11             1008.000000  42.000000   47.000   2.00     10.000   \n",
       "13  2015-08-13              627.500000  44.750000   51.000   5.00      1.000   \n",
       "14  2015-08-20              958.666667  43.250000   44.500   2.50     10.000   \n",
       "15  2015-08-21             3567.000000  54.000000   46.000    NaN        NaN   \n",
       "16  2015-08-26             1115.000000  42.250000   51.500    NaN      6.250   \n",
       "17  2015-08-28             1056.600000  44.750000   42.000    NaN     13.375   \n",
       "18  2015-09-02              900.000000  45.000000   40.000    NaN     16.000   \n",
       "19  2015-09-04             1469.000000  46.200000   47.600   3.25      7.500   \n",
       "20  2015-09-05              955.000000  47.000000   43.000    NaN     11.000   \n",
       "21  2015-09-07              821.000000  43.000000   46.000   7.00      5.000   \n",
       "22  2015-09-11             1011.500000  41.750000   41.750    NaN     16.500   \n",
       "23  2015-09-17              966.000000  41.500000   47.250   1.75      9.250   \n",
       "24  2015-09-18             4033.000000  41.000000   45.000    NaN     14.000   \n",
       "25  2015-09-20             1006.500000  40.500000   47.500   6.50      5.500   \n",
       "26  2015-09-24              771.500000  42.500000   44.500    NaN     13.250   \n",
       "27  2015-09-30             2665.000000  52.000000   48.000    NaN        NaN   \n",
       "28  2015-10-01              838.666667  46.000000   41.250    NaN     12.750   \n",
       "29  2015-10-02             1983.000000  43.000000   41.000    NaN     16.000   \n",
       "30  2015-10-08             1001.000000  42.250000   42.250    NaN     15.500   \n",
       "31  2015-10-10             1004.000000  45.000000   40.000   4.00     10.000   \n",
       "32  2015-10-14              936.000000  45.500000   49.250   5.50      0.000   \n",
       "33  2015-10-15             1008.500000  42.250000   43.250    NaN     14.500   \n",
       "34  2015-10-16              783.000000  46.000000   44.000    NaN     10.000   \n",
       "35  2015-10-17              764.000000  38.000000   47.000    NaN        NaN   \n",
       "36  2015-10-22              844.500000  43.000000   43.250    NaN     13.750   \n",
       "37  2015-10-25             1000.000000  42.000000   50.000   6.00      2.000   \n",
       "38  2015-10-26             2606.000000  49.000000   51.000    NaN        NaN   \n",
       "39  2015-10-29             1003.400000  43.333333   49.000   2.00      7.000   \n",
       "40  2015-10-30             1002.000000  37.000000   41.000  16.00      6.000   \n",
       "41  2015-11-05             2001.000000  44.250000   41.250    NaN     14.500   \n",
       "42  2015-11-13             1000.500000  43.500000   42.500    NaN     14.000   \n",
       "43  2015-11-15             2360.000000  43.750000   50.750    NaN      5.750   \n",
       "44  2015-11-16             1188.000000  45.800000   42.400   2.00     11.600   \n",
       "45  2015-11-23              899.333333  41.750000   47.500   2.00      9.000   \n",
       "46  2015-11-27              930.000000  46.750000   48.750   4.25      0.000   \n",
       "47  2015-11-29              746.000000  37.000000   51.000    NaN        NaN   \n",
       "48  2015-12-02              496.500000  44.750000   46.500    NaN      8.500   \n",
       "49  2015-12-03             1023.500000  44.750000   40.500    NaN     15.000   \n",
       "\n",
       "      Difference  \n",
       "0  -1.450000e-01  \n",
       "1  -1.225000e-01  \n",
       "2  -1.700000e-01  \n",
       "3  -2.025000e-01  \n",
       "4  -1.425000e-01  \n",
       "5  -8.500000e-02  \n",
       "6  -1.462500e-01  \n",
       "7  -1.000000e-01  \n",
       "8  -9.000000e-02  \n",
       "9  -1.000000e-02  \n",
       "10 -1.400000e-01  \n",
       "11 -3.000000e-02  \n",
       "12 -5.000000e-02  \n",
       "13 -6.250000e-02  \n",
       "14 -1.250000e-02  \n",
       "15  8.000000e-02  \n",
       "16 -9.250000e-02  \n",
       "17  2.750000e-02  \n",
       "18  5.000000e-02  \n",
       "19 -1.400000e-02  \n",
       "20  4.000000e-02  \n",
       "21 -3.000000e-02  \n",
       "22 -6.938894e-18  \n",
       "23 -5.750000e-02  \n",
       "24 -4.000000e-02  \n",
       "25 -7.000000e-02  \n",
       "26 -2.000000e-02  \n",
       "27  4.000000e-02  \n",
       "28  4.750000e-02  \n",
       "29  2.000000e-02  \n",
       "30  1.387779e-17  \n",
       "31  5.000000e-02  \n",
       "32 -3.750000e-02  \n",
       "33 -1.000000e-02  \n",
       "34  2.000000e-02  \n",
       "35 -9.000000e-02  \n",
       "36 -2.500000e-03  \n",
       "37 -8.000000e-02  \n",
       "38 -2.000000e-02  \n",
       "39 -5.666667e-02  \n",
       "40 -4.000000e-02  \n",
       "41  3.000000e-02  \n",
       "42  1.000000e-02  \n",
       "43 -7.000000e-02  \n",
       "44  3.400000e-02  \n",
       "45 -5.750000e-02  \n",
       "46 -2.000000e-02  \n",
       "47 -1.400000e-01  \n",
       "48 -1.750000e-02  \n",
       "49  4.250000e-02  "
      ]
     },
     "execution_count": 19,
     "metadata": {},
     "output_type": "execute_result"
    }
   ],
   "source": [
    "# Visualize how this sentiment in difference changes over time\n",
    "\n",
    "poll=poll.groupby('Start Date',as_index=False).mean()\n",
    "poll.head(50)"
   ]
  },
  {
   "cell_type": "code",
   "execution_count": 20,
   "metadata": {
    "colab": {
     "base_uri": "https://localhost:8080/",
     "height": 941
    },
    "colab_type": "code",
    "executionInfo": {
     "elapsed": 1428,
     "status": "ok",
     "timestamp": 1578198748579,
     "user": {
      "displayName": "Rajeev Ratan",
      "photoUrl": "https://lh3.googleusercontent.com/a-/AAuE7mCGo6aIm0tOcd5EhqWlYb0rime9sBvHS9YMpx0D2w=s64",
      "userId": "08597265227091462140"
     },
     "user_tz": 240
    },
    "id": "CmZExCQc-a4-",
    "outputId": "5f378758-0a2f-45a9-884b-a8560e74a049"
   },
   "outputs": [
    {
     "data": {
      "text/plain": [
       "<AxesSubplot:xlabel='Start Date'>"
      ]
     },
     "execution_count": 20,
     "metadata": {},
     "output_type": "execute_result"
    },
    {
     "data": {
      "image/png": "[encoded data removed]",
      "text/plain": [
       "<Figure size 1800x1080 with 1 Axes>"
      ]
     },
     "metadata": {},
     "output_type": "display_data"
    }
   ],
   "source": [
    "# Plotting the difference in polls between Trump and Clinton\n",
    "poll.plot('Start Date','Difference',figsize=(25,15),marker='s',color='red')"
   ]
  },
  {
   "cell_type": "code",
   "execution_count": 21,
   "metadata": {
    "colab": {
     "base_uri": "https://localhost:8080/",
     "height": 52
    },
    "colab_type": "code",
    "executionInfo": {
     "elapsed": 542,
     "status": "ok",
     "timestamp": 1578198755545,
     "user": {
      "displayName": "Rajeev Ratan",
      "photoUrl": "https://lh3.googleusercontent.com/a-/AAuE7mCGo6aIm0tOcd5EhqWlYb0rime9sBvHS9YMpx0D2w=s64",
      "userId": "08597265227091462140"
     },
     "user_tz": 240
    },
    "id": "S699oIPw-cer",
    "outputId": "5ede12ef-2943-4118-ed8b-42979c92cf4e"
   },
   "outputs": [
    {
     "name": "stdout",
     "output_type": "stream",
     "text": [
      "209\n",
      "262\n"
     ]
    }
   ],
   "source": [
    "# Plot marker lines on the dates of the debates and see if there is any general insight to the poll results\n",
    "# The debate dates were Sept 26th, Oct 9th and Oct 19th 0f 2016\n",
    "\n",
    "row_in=0\n",
    "xlimit=[]\n",
    "\n",
    "for date in poll['Start Date']:\n",
    "    if date[0:7] == '2016-09':\n",
    "        xlimit.append(row_in)\n",
    "        row_in +=1\n",
    "    else:\n",
    "        row_in +=1\n",
    "        \n",
    "print (min(xlimit))\n",
    "\n",
    "row_in=0\n",
    "xlimit=[]\n",
    "\n",
    "for date in poll['Start Date']:\n",
    "    if date[0:7] == '2016-10':\n",
    "        xlimit.append(row_in)\n",
    "        row_in +=1\n",
    "    else:\n",
    "        row_in +=1\n",
    "        \n",
    "print (max(xlimit))"
   ]
  },
  {
   "cell_type": "code",
   "execution_count": 17,
   "metadata": {
    "colab": {
     "base_uri": "https://localhost:8080/",
     "height": 669
    },
    "colab_type": "code",
    "executionInfo": {
     "elapsed": 913,
     "status": "ok",
     "timestamp": 1578198772478,
     "user": {
      "displayName": "Rajeev Ratan",
      "photoUrl": "https://lh3.googleusercontent.com/a-/AAuE7mCGo6aIm0tOcd5EhqWlYb0rime9sBvHS9YMpx0D2w=s64",
      "userId": "08597265227091462140"
     },
     "user_tz": 240
    },
    "id": "60hW82P7-eZh",
    "outputId": "90806cf9-f455-475a-9939-f5b933b7f9d7"
   },
   "outputs": [
    {
     "data": {
      "text/plain": [
       "<matplotlib.lines.Line2D at 0x7f94e315a860>"
      ]
     },
     "execution_count": 17,
     "metadata": {
      "tags": []
     },
     "output_type": "execute_result"
    },
    {
     "data": {
      "image/png": "[encoded data removed]",
      "text/plain": [
       "<Figure size 1080x720 with 1 Axes>"
      ]
     },
     "metadata": {
      "tags": []
     },
     "output_type": "display_data"
    }
   ],
   "source": [
    "poll.plot('Start Date','Difference',figsize=(15,10),marker='s',color='red',xlim=(209,262))\n",
    "plt.pyplot.axvline(x=209+27, linewidth=4, color='grey')\n",
    "plt.pyplot.axvline(x=209+40, linewidth=4, color='grey')\n",
    "plt.pyplot.axvline(x=209+50, linewidth=4, color='grey')"
   ]
  },
  {
   "cell_type": "markdown",
   "metadata": {
    "colab_type": "text",
    "id": "wNn_vSWh-kz1"
   },
   "source": [
    "# Donor Data Analysis"
   ]
  },
  {
   "cell_type": "code",
   "execution_count": 22,
   "metadata": {
    "colab": {
     "base_uri": "https://localhost:8080/",
     "height": 378
    },
    "colab_type": "code",
    "executionInfo": {
     "elapsed": 6544,
     "status": "ok",
     "timestamp": 1578198921662,
     "user": {
      "displayName": "Rajeev Ratan",
      "photoUrl": "https://lh3.googleusercontent.com/a-/AAuE7mCGo6aIm0tOcd5EhqWlYb0rime9sBvHS9YMpx0D2w=s64",
      "userId": "08597265227091462140"
     },
     "user_tz": 240
    },
    "id": "RE5bk4ru-f1o",
    "outputId": "7050e541-6650-449b-8849-b360e6eb8bfb"
   },
   "outputs": [
    {
     "name": "stderr",
     "output_type": "stream",
     "text": [
      "C:\\ProgramData\\Anaconda3\\lib\\site-packages\\IPython\\core\\interactiveshell.py:3147: DtypeWarning: Columns (6) have mixed types.Specify dtype option on import or set low_memory=False.\n",
      "  interactivity=interactivity, compiler=compiler, result=result)\n"
     ]
    },
    {
     "data": {
      "text/html": [
       "<div>\n",
       "<style scoped>\n",
       "    .dataframe tbody tr th:only-of-type {\n",
       "        vertical-align: middle;\n",
       "    }\n",
       "\n",
       "    .dataframe tbody tr th {\n",
       "        vertical-align: top;\n",
       "    }\n",
       "\n",
       "    .dataframe thead th {\n",
       "        text-align: right;\n",
       "    }\n",
       "</style>\n",
       "<table border=\"1\" class=\"dataframe\">\n",
       "  <thead>\n",
       "    <tr style=\"text-align: right;\">\n",
       "      <th></th>\n",
       "      <th>cmte_id</th>\n",
       "      <th>cand_id</th>\n",
       "      <th>cand_nm</th>\n",
       "      <th>contbr_nm</th>\n",
       "      <th>contbr_city</th>\n",
       "      <th>contbr_st</th>\n",
       "      <th>contbr_zip</th>\n",
       "      <th>contbr_employer</th>\n",
       "      <th>contbr_occupation</th>\n",
       "      <th>contb_receipt_amt</th>\n",
       "      <th>contb_receipt_dt</th>\n",
       "      <th>receipt_desc</th>\n",
       "      <th>memo_cd</th>\n",
       "      <th>memo_text</th>\n",
       "      <th>form_tp</th>\n",
       "      <th>file_num</th>\n",
       "      <th>tran_id</th>\n",
       "      <th>election_tp</th>\n",
       "    </tr>\n",
       "  </thead>\n",
       "  <tbody>\n",
       "    <tr>\n",
       "      <th>0</th>\n",
       "      <td>C00458844</td>\n",
       "      <td>P60006723</td>\n",
       "      <td>Rubio, Marco</td>\n",
       "      <td>BLUM, MAUREEN</td>\n",
       "      <td>WASHINGTON</td>\n",
       "      <td>20</td>\n",
       "      <td>DC</td>\n",
       "      <td>STRATEGIC COALITIONS &amp; INITIATIVES LL</td>\n",
       "      <td>OUTREACH DIRECTOR</td>\n",
       "      <td>175.0</td>\n",
       "      <td>15-Mar-16</td>\n",
       "      <td>NaN</td>\n",
       "      <td>NaN</td>\n",
       "      <td>NaN</td>\n",
       "      <td>SA17A</td>\n",
       "      <td>1082559.0</td>\n",
       "      <td>SA17.1152124</td>\n",
       "      <td>P2016</td>\n",
       "    </tr>\n",
       "    <tr>\n",
       "      <th>1</th>\n",
       "      <td>C00458844</td>\n",
       "      <td>P60006723</td>\n",
       "      <td>Rubio, Marco</td>\n",
       "      <td>DODSON, MARK B. MR.</td>\n",
       "      <td>ATLANTA</td>\n",
       "      <td>30</td>\n",
       "      <td>GA</td>\n",
       "      <td>MORTGAGE CAPITAL ADVISORS</td>\n",
       "      <td>PRIVATE MORTGAGE BANKING</td>\n",
       "      <td>25.0</td>\n",
       "      <td>16-Mar-16</td>\n",
       "      <td>NaN</td>\n",
       "      <td>NaN</td>\n",
       "      <td>DEBT RETIREMENT</td>\n",
       "      <td>SA17A</td>\n",
       "      <td>1082559.0</td>\n",
       "      <td>SA17.1153048</td>\n",
       "      <td>P2016</td>\n",
       "    </tr>\n",
       "    <tr>\n",
       "      <th>2</th>\n",
       "      <td>C00458844</td>\n",
       "      <td>P60006723</td>\n",
       "      <td>Rubio, Marco</td>\n",
       "      <td>CHILDERS, WILLIAM</td>\n",
       "      <td>DPO</td>\n",
       "      <td>AE</td>\n",
       "      <td>98309998</td>\n",
       "      <td>DIPLOMAT</td>\n",
       "      <td>US GOVERNMENT</td>\n",
       "      <td>100.0</td>\n",
       "      <td>20-Feb-16</td>\n",
       "      <td>NaN</td>\n",
       "      <td>NaN</td>\n",
       "      <td>NaN</td>\n",
       "      <td>SA17A</td>\n",
       "      <td>1056862.0</td>\n",
       "      <td>SA17.1020839</td>\n",
       "      <td>P2016</td>\n",
       "    </tr>\n",
       "    <tr>\n",
       "      <th>3</th>\n",
       "      <td>C00458844</td>\n",
       "      <td>P60006723</td>\n",
       "      <td>Rubio, Marco</td>\n",
       "      <td>RUCINSKI, ROBERT</td>\n",
       "      <td>APO</td>\n",
       "      <td>AE</td>\n",
       "      <td>90960009</td>\n",
       "      <td>US ARMY</td>\n",
       "      <td>PHYSICIAN</td>\n",
       "      <td>200.0</td>\n",
       "      <td>10-Mar-16</td>\n",
       "      <td>NaN</td>\n",
       "      <td>NaN</td>\n",
       "      <td>NaN</td>\n",
       "      <td>SA17A</td>\n",
       "      <td>1082559.0</td>\n",
       "      <td>SA17.1078677</td>\n",
       "      <td>P2016</td>\n",
       "    </tr>\n",
       "    <tr>\n",
       "      <th>4</th>\n",
       "      <td>C00458844</td>\n",
       "      <td>P60006723</td>\n",
       "      <td>Rubio, Marco</td>\n",
       "      <td>RUCINSKI, ROBERT</td>\n",
       "      <td>APO</td>\n",
       "      <td>AE</td>\n",
       "      <td>90960009</td>\n",
       "      <td>US ARMY</td>\n",
       "      <td>PHYSICIAN</td>\n",
       "      <td>100.0</td>\n",
       "      <td>08-Mar-16</td>\n",
       "      <td>NaN</td>\n",
       "      <td>NaN</td>\n",
       "      <td>NaN</td>\n",
       "      <td>SA17A</td>\n",
       "      <td>1082559.0</td>\n",
       "      <td>SA17.1074981</td>\n",
       "      <td>P2016</td>\n",
       "    </tr>\n",
       "  </tbody>\n",
       "</table>\n",
       "</div>"
      ],
      "text/plain": [
       "     cmte_id    cand_id       cand_nm            contbr_nm contbr_city  \\\n",
       "0  C00458844  P60006723  Rubio, Marco        BLUM, MAUREEN  WASHINGTON   \n",
       "1  C00458844  P60006723  Rubio, Marco  DODSON, MARK B. MR.     ATLANTA   \n",
       "2  C00458844  P60006723  Rubio, Marco    CHILDERS, WILLIAM         DPO   \n",
       "3  C00458844  P60006723  Rubio, Marco     RUCINSKI, ROBERT         APO   \n",
       "4  C00458844  P60006723  Rubio, Marco     RUCINSKI, ROBERT         APO   \n",
       "\n",
       "  contbr_st contbr_zip                        contbr_employer  \\\n",
       "0        20         DC  STRATEGIC COALITIONS & INITIATIVES LL   \n",
       "1        30         GA              MORTGAGE CAPITAL ADVISORS   \n",
       "2        AE   98309998                               DIPLOMAT   \n",
       "3        AE   90960009                                US ARMY   \n",
       "4        AE   90960009                                US ARMY   \n",
       "\n",
       "          contbr_occupation  contb_receipt_amt contb_receipt_dt receipt_desc  \\\n",
       "0         OUTREACH DIRECTOR              175.0        15-Mar-16          NaN   \n",
       "1  PRIVATE MORTGAGE BANKING               25.0        16-Mar-16          NaN   \n",
       "2             US GOVERNMENT              100.0        20-Feb-16          NaN   \n",
       "3                 PHYSICIAN              200.0        10-Mar-16          NaN   \n",
       "4                 PHYSICIAN              100.0        08-Mar-16          NaN   \n",
       "\n",
       "  memo_cd        memo_text form_tp   file_num       tran_id election_tp  \n",
       "0     NaN              NaN   SA17A  1082559.0  SA17.1152124       P2016  \n",
       "1     NaN  DEBT RETIREMENT   SA17A  1082559.0  SA17.1153048       P2016  \n",
       "2     NaN              NaN   SA17A  1056862.0  SA17.1020839       P2016  \n",
       "3     NaN              NaN   SA17A  1082559.0  SA17.1078677       P2016  \n",
       "4     NaN              NaN   SA17A  1082559.0  SA17.1074981       P2016  "
      ]
     },
     "execution_count": 22,
     "metadata": {},
     "output_type": "execute_result"
    }
   ],
   "source": [
    "# Import Donor data\n",
    "\n",
    "# Download and unzip our zipfile\n",
    "from urllib.request import urlopen\n",
    "from zipfile import ZipFile\n",
    "\n",
    "donor=pd.read_csv('Donor_Data.csv')\n",
    "donor.head()"
   ]
  },
  {
   "cell_type": "code",
   "execution_count": 23,
   "metadata": {
    "colab": {
     "base_uri": "https://localhost:8080/",
     "height": 416
    },
    "colab_type": "code",
    "executionInfo": {
     "elapsed": 1129,
     "status": "ok",
     "timestamp": 1578198928637,
     "user": {
      "displayName": "Rajeev Ratan",
      "photoUrl": "https://lh3.googleusercontent.com/a-/AAuE7mCGo6aIm0tOcd5EhqWlYb0rime9sBvHS9YMpx0D2w=s64",
      "userId": "08597265227091462140"
     },
     "user_tz": 240
    },
    "id": "GrfnKFBd-qoQ",
    "outputId": "bbb914d9-4740-4864-b4b9-e639b345aa1a"
   },
   "outputs": [
    {
     "name": "stdout",
     "output_type": "stream",
     "text": [
      "<class 'pandas.core.frame.DataFrame'>\n",
      "RangeIndex: 1048563 entries, 0 to 1048562\n",
      "Data columns (total 18 columns):\n",
      " #   Column             Non-Null Count    Dtype  \n",
      "---  ------             --------------    -----  \n",
      " 0   cmte_id            1048559 non-null  object \n",
      " 1   cand_id            1048559 non-null  object \n",
      " 2   cand_nm            1048559 non-null  object \n",
      " 3   contbr_nm          1048559 non-null  object \n",
      " 4   contbr_city        1048528 non-null  object \n",
      " 5   contbr_st          1048559 non-null  object \n",
      " 6   contbr_zip         1048387 non-null  object \n",
      " 7   contbr_employer    1001612 non-null  object \n",
      " 8   contbr_occupation  1039840 non-null  object \n",
      " 9   contb_receipt_amt  1048559 non-null  float64\n",
      " 10  contb_receipt_dt   1048559 non-null  object \n",
      " 11  receipt_desc       49906 non-null    object \n",
      " 12  memo_cd            60252 non-null    object \n",
      " 13  memo_text          77652 non-null    object \n",
      " 14  form_tp            1048559 non-null  object \n",
      " 15  file_num           1048559 non-null  float64\n",
      " 16  tran_id            1048559 non-null  object \n",
      " 17  election_tp        1047645 non-null  object \n",
      "dtypes: float64(2), object(16)\n",
      "memory usage: 144.0+ MB\n"
     ]
    }
   ],
   "source": [
    "# Quick Overview\n",
    "donor.info()"
   ]
  },
  {
   "cell_type": "code",
   "execution_count": 24,
   "metadata": {
    "colab": {
     "base_uri": "https://localhost:8080/",
     "height": 225
    },
    "colab_type": "code",
    "executionInfo": {
     "elapsed": 427,
     "status": "ok",
     "timestamp": 1578198935859,
     "user": {
      "displayName": "Rajeev Ratan",
      "photoUrl": "https://lh3.googleusercontent.com/a-/AAuE7mCGo6aIm0tOcd5EhqWlYb0rime9sBvHS9YMpx0D2w=s64",
      "userId": "08597265227091462140"
     },
     "user_tz": 240
    },
    "id": "-5RqmOIc_IgH",
    "outputId": "fab7a1b0-1210-4e10-8a1b-acdd46bb384d"
   },
   "outputs": [
    {
     "data": {
      "text/plain": [
       "25.00      210952\n",
       "50.00      194575\n",
       "100.00     174995\n",
       "10.00       58523\n",
       "35.00       54439\n",
       "            ...  \n",
       "1169.00         1\n",
       "52.14           1\n",
       "284.50          1\n",
       "2.25            1\n",
       "1011.75         1\n",
       "Name: contb_receipt_amt, Length: 5253, dtype: int64"
      ]
     },
     "execution_count": 24,
     "metadata": {},
     "output_type": "execute_result"
    }
   ],
   "source": [
    "# Get a quick look at the various donation amounts\n",
    "donor['contb_receipt_amt'].value_counts()"
   ]
  },
  {
   "cell_type": "code",
   "execution_count": 25,
   "metadata": {},
   "outputs": [
    {
     "data": {
      "text/html": [
       "<div>\n",
       "<style scoped>\n",
       "    .dataframe tbody tr th:only-of-type {\n",
       "        vertical-align: middle;\n",
       "    }\n",
       "\n",
       "    .dataframe tbody tr th {\n",
       "        vertical-align: top;\n",
       "    }\n",
       "\n",
       "    .dataframe thead th {\n",
       "        text-align: right;\n",
       "    }\n",
       "</style>\n",
       "<table border=\"1\" class=\"dataframe\">\n",
       "  <thead>\n",
       "    <tr style=\"text-align: right;\">\n",
       "      <th></th>\n",
       "      <th>cmte_id</th>\n",
       "      <th>cand_id</th>\n",
       "      <th>cand_nm</th>\n",
       "      <th>contbr_nm</th>\n",
       "      <th>contbr_city</th>\n",
       "      <th>contbr_st</th>\n",
       "      <th>contbr_zip</th>\n",
       "      <th>contbr_employer</th>\n",
       "      <th>contbr_occupation</th>\n",
       "      <th>contb_receipt_amt</th>\n",
       "      <th>contb_receipt_dt</th>\n",
       "      <th>receipt_desc</th>\n",
       "      <th>memo_cd</th>\n",
       "      <th>memo_text</th>\n",
       "      <th>form_tp</th>\n",
       "      <th>file_num</th>\n",
       "      <th>tran_id</th>\n",
       "      <th>election_tp</th>\n",
       "    </tr>\n",
       "  </thead>\n",
       "  <tbody>\n",
       "    <tr>\n",
       "      <th>170</th>\n",
       "      <td>C00458844</td>\n",
       "      <td>P60006723</td>\n",
       "      <td>Rubio, Marco</td>\n",
       "      <td>GREEN, PERRY MR.</td>\n",
       "      <td>ANCHORAGE</td>\n",
       "      <td>AK</td>\n",
       "      <td>995084442</td>\n",
       "      <td>DAVID GREEN AND SONS INC.</td>\n",
       "      <td>FURRIER</td>\n",
       "      <td>-1250.0</td>\n",
       "      <td>15-Mar-16</td>\n",
       "      <td>REATTRIBUTION TO SPOUSE</td>\n",
       "      <td>X</td>\n",
       "      <td>REATTRIBUTION TO SPOUSE</td>\n",
       "      <td>SA17A</td>\n",
       "      <td>1082559.0</td>\n",
       "      <td>SA17.B1152295</td>\n",
       "      <td>P2016</td>\n",
       "    </tr>\n",
       "    <tr>\n",
       "      <th>239</th>\n",
       "      <td>C00458844</td>\n",
       "      <td>P60006723</td>\n",
       "      <td>Rubio, Marco</td>\n",
       "      <td>KELLER, RAY</td>\n",
       "      <td>HOLLYWOOD</td>\n",
       "      <td>AL</td>\n",
       "      <td>35752</td>\n",
       "      <td>NaN</td>\n",
       "      <td>NaN</td>\n",
       "      <td>-2300.0</td>\n",
       "      <td>28-Apr-16</td>\n",
       "      <td>Refund</td>\n",
       "      <td>NaN</td>\n",
       "      <td>NaN</td>\n",
       "      <td>SB28A</td>\n",
       "      <td>1073515.0</td>\n",
       "      <td>SB28A.4590</td>\n",
       "      <td>P2016</td>\n",
       "    </tr>\n",
       "    <tr>\n",
       "      <th>240</th>\n",
       "      <td>C00458844</td>\n",
       "      <td>P60006723</td>\n",
       "      <td>Rubio, Marco</td>\n",
       "      <td>ALVAREZ, KAREN</td>\n",
       "      <td>HUNTSVILLE</td>\n",
       "      <td>AL</td>\n",
       "      <td>35801</td>\n",
       "      <td>NaN</td>\n",
       "      <td>NaN</td>\n",
       "      <td>-30.0</td>\n",
       "      <td>25-Apr-16</td>\n",
       "      <td>Refund</td>\n",
       "      <td>NaN</td>\n",
       "      <td>NaN</td>\n",
       "      <td>SB28A</td>\n",
       "      <td>1073515.0</td>\n",
       "      <td>SB28A.4538</td>\n",
       "      <td>P2016</td>\n",
       "    </tr>\n",
       "    <tr>\n",
       "      <th>241</th>\n",
       "      <td>C00458844</td>\n",
       "      <td>P60006723</td>\n",
       "      <td>Rubio, Marco</td>\n",
       "      <td>KOHL, M. LARUE</td>\n",
       "      <td>GUNTERSVILLE</td>\n",
       "      <td>AL</td>\n",
       "      <td>35976</td>\n",
       "      <td>NaN</td>\n",
       "      <td>NaN</td>\n",
       "      <td>-250.0</td>\n",
       "      <td>13-May-16</td>\n",
       "      <td>Refund</td>\n",
       "      <td>NaN</td>\n",
       "      <td>NaN</td>\n",
       "      <td>SB28A</td>\n",
       "      <td>1079053.0</td>\n",
       "      <td>SB28A.8163</td>\n",
       "      <td>G2016</td>\n",
       "    </tr>\n",
       "    <tr>\n",
       "      <th>242</th>\n",
       "      <td>C00458844</td>\n",
       "      <td>P60006723</td>\n",
       "      <td>Rubio, Marco</td>\n",
       "      <td>CARLTON, SHEILA</td>\n",
       "      <td>VESTAVIA</td>\n",
       "      <td>AL</td>\n",
       "      <td>35242</td>\n",
       "      <td>NaN</td>\n",
       "      <td>NaN</td>\n",
       "      <td>-450.0</td>\n",
       "      <td>13-May-16</td>\n",
       "      <td>Refund</td>\n",
       "      <td>NaN</td>\n",
       "      <td>NaN</td>\n",
       "      <td>SB28A</td>\n",
       "      <td>1079053.0</td>\n",
       "      <td>SB28A.6919</td>\n",
       "      <td>G2016</td>\n",
       "    </tr>\n",
       "    <tr>\n",
       "      <th>...</th>\n",
       "      <td>...</td>\n",
       "      <td>...</td>\n",
       "      <td>...</td>\n",
       "      <td>...</td>\n",
       "      <td>...</td>\n",
       "      <td>...</td>\n",
       "      <td>...</td>\n",
       "      <td>...</td>\n",
       "      <td>...</td>\n",
       "      <td>...</td>\n",
       "      <td>...</td>\n",
       "      <td>...</td>\n",
       "      <td>...</td>\n",
       "      <td>...</td>\n",
       "      <td>...</td>\n",
       "      <td>...</td>\n",
       "      <td>...</td>\n",
       "      <td>...</td>\n",
       "    </tr>\n",
       "    <tr>\n",
       "      <th>1043928</th>\n",
       "      <td>C00575795</td>\n",
       "      <td>P00003392</td>\n",
       "      <td>Clinton, Hillary Rodham</td>\n",
       "      <td>CHOUDHURI, SUBRATA</td>\n",
       "      <td>TUCSON</td>\n",
       "      <td>AZ</td>\n",
       "      <td>8.57055e+08</td>\n",
       "      <td>NaN</td>\n",
       "      <td>NaN</td>\n",
       "      <td>-5.0</td>\n",
       "      <td>04-Jun-16</td>\n",
       "      <td>Refund</td>\n",
       "      <td>NaN</td>\n",
       "      <td>NaN</td>\n",
       "      <td>SB28A</td>\n",
       "      <td>1099613.0</td>\n",
       "      <td>D207959</td>\n",
       "      <td>P2016</td>\n",
       "    </tr>\n",
       "    <tr>\n",
       "      <th>1043929</th>\n",
       "      <td>C00575795</td>\n",
       "      <td>P00003392</td>\n",
       "      <td>Clinton, Hillary Rodham</td>\n",
       "      <td>CHOUDHURI, SUBRATA</td>\n",
       "      <td>TUCSON</td>\n",
       "      <td>AZ</td>\n",
       "      <td>8.57055e+08</td>\n",
       "      <td>NaN</td>\n",
       "      <td>NaN</td>\n",
       "      <td>-5.0</td>\n",
       "      <td>04-Jun-16</td>\n",
       "      <td>Refund</td>\n",
       "      <td>NaN</td>\n",
       "      <td>NaN</td>\n",
       "      <td>SB28A</td>\n",
       "      <td>1099613.0</td>\n",
       "      <td>D207989</td>\n",
       "      <td>P2016</td>\n",
       "    </tr>\n",
       "    <tr>\n",
       "      <th>1043954</th>\n",
       "      <td>C00575795</td>\n",
       "      <td>P00003392</td>\n",
       "      <td>Clinton, Hillary Rodham</td>\n",
       "      <td>HAUGHN, SUZIE</td>\n",
       "      <td>SUN CITY</td>\n",
       "      <td>AZ</td>\n",
       "      <td>8.53722e+08</td>\n",
       "      <td>NaN</td>\n",
       "      <td>RETIRED</td>\n",
       "      <td>-10.0</td>\n",
       "      <td>22-Jun-16</td>\n",
       "      <td>NaN</td>\n",
       "      <td>X</td>\n",
       "      <td>* HILLARY VICTORY FUND</td>\n",
       "      <td>SA18</td>\n",
       "      <td>1126762.0</td>\n",
       "      <td>C10592506</td>\n",
       "      <td>P2016</td>\n",
       "    </tr>\n",
       "    <tr>\n",
       "      <th>1043977</th>\n",
       "      <td>C00575795</td>\n",
       "      <td>P00003392</td>\n",
       "      <td>Clinton, Hillary Rodham</td>\n",
       "      <td>CHOUDHURI, SUBRATA</td>\n",
       "      <td>TUCSON</td>\n",
       "      <td>AZ</td>\n",
       "      <td>8.57055e+08</td>\n",
       "      <td>NaN</td>\n",
       "      <td>NaN</td>\n",
       "      <td>-5.0</td>\n",
       "      <td>04-Jun-16</td>\n",
       "      <td>Refund</td>\n",
       "      <td>NaN</td>\n",
       "      <td>NaN</td>\n",
       "      <td>SB28A</td>\n",
       "      <td>1099613.0</td>\n",
       "      <td>D207972</td>\n",
       "      <td>P2016</td>\n",
       "    </tr>\n",
       "    <tr>\n",
       "      <th>1045817</th>\n",
       "      <td>C00575795</td>\n",
       "      <td>P00003392</td>\n",
       "      <td>Clinton, Hillary Rodham</td>\n",
       "      <td>BENIQUEZ, MARIELLE</td>\n",
       "      <td>TUCSON</td>\n",
       "      <td>AZ</td>\n",
       "      <td>8.57476e+08</td>\n",
       "      <td>MILITARY</td>\n",
       "      <td>COUNSELOR</td>\n",
       "      <td>-250.0</td>\n",
       "      <td>26-Apr-16</td>\n",
       "      <td>NaN</td>\n",
       "      <td>X</td>\n",
       "      <td>* HILLARY VICTORY FUND</td>\n",
       "      <td>SA18</td>\n",
       "      <td>1099613.0</td>\n",
       "      <td>C6513825</td>\n",
       "      <td>P2016</td>\n",
       "    </tr>\n",
       "  </tbody>\n",
       "</table>\n",
       "<p>26819 rows × 18 columns</p>\n",
       "</div>"
      ],
      "text/plain": [
       "           cmte_id    cand_id                  cand_nm           contbr_nm  \\\n",
       "170      C00458844  P60006723             Rubio, Marco    GREEN, PERRY MR.   \n",
       "239      C00458844  P60006723             Rubio, Marco         KELLER, RAY   \n",
       "240      C00458844  P60006723             Rubio, Marco      ALVAREZ, KAREN   \n",
       "241      C00458844  P60006723             Rubio, Marco      KOHL, M. LARUE   \n",
       "242      C00458844  P60006723             Rubio, Marco     CARLTON, SHEILA   \n",
       "...            ...        ...                      ...                 ...   \n",
       "1043928  C00575795  P00003392  Clinton, Hillary Rodham  CHOUDHURI, SUBRATA   \n",
       "1043929  C00575795  P00003392  Clinton, Hillary Rodham  CHOUDHURI, SUBRATA   \n",
       "1043954  C00575795  P00003392  Clinton, Hillary Rodham       HAUGHN, SUZIE   \n",
       "1043977  C00575795  P00003392  Clinton, Hillary Rodham  CHOUDHURI, SUBRATA   \n",
       "1045817  C00575795  P00003392  Clinton, Hillary Rodham  BENIQUEZ, MARIELLE   \n",
       "\n",
       "          contbr_city contbr_st   contbr_zip            contbr_employer  \\\n",
       "170         ANCHORAGE        AK    995084442  DAVID GREEN AND SONS INC.   \n",
       "239         HOLLYWOOD        AL        35752                        NaN   \n",
       "240        HUNTSVILLE        AL        35801                        NaN   \n",
       "241      GUNTERSVILLE        AL        35976                        NaN   \n",
       "242          VESTAVIA        AL        35242                        NaN   \n",
       "...               ...       ...          ...                        ...   \n",
       "1043928        TUCSON        AZ  8.57055e+08                        NaN   \n",
       "1043929        TUCSON        AZ  8.57055e+08                        NaN   \n",
       "1043954      SUN CITY        AZ  8.53722e+08                        NaN   \n",
       "1043977        TUCSON        AZ  8.57055e+08                        NaN   \n",
       "1045817        TUCSON        AZ  8.57476e+08                   MILITARY   \n",
       "\n",
       "        contbr_occupation  contb_receipt_amt contb_receipt_dt  \\\n",
       "170               FURRIER            -1250.0        15-Mar-16   \n",
       "239                   NaN            -2300.0        28-Apr-16   \n",
       "240                   NaN              -30.0        25-Apr-16   \n",
       "241                   NaN             -250.0        13-May-16   \n",
       "242                   NaN             -450.0        13-May-16   \n",
       "...                   ...                ...              ...   \n",
       "1043928               NaN               -5.0        04-Jun-16   \n",
       "1043929               NaN               -5.0        04-Jun-16   \n",
       "1043954           RETIRED              -10.0        22-Jun-16   \n",
       "1043977               NaN               -5.0        04-Jun-16   \n",
       "1045817         COUNSELOR             -250.0        26-Apr-16   \n",
       "\n",
       "                    receipt_desc memo_cd                memo_text form_tp  \\\n",
       "170      REATTRIBUTION TO SPOUSE       X  REATTRIBUTION TO SPOUSE   SA17A   \n",
       "239                       Refund     NaN                      NaN   SB28A   \n",
       "240                       Refund     NaN                      NaN   SB28A   \n",
       "241                       Refund     NaN                      NaN   SB28A   \n",
       "242                       Refund     NaN                      NaN   SB28A   \n",
       "...                          ...     ...                      ...     ...   \n",
       "1043928                   Refund     NaN                      NaN   SB28A   \n",
       "1043929                   Refund     NaN                      NaN   SB28A   \n",
       "1043954                      NaN       X   * HILLARY VICTORY FUND    SA18   \n",
       "1043977                   Refund     NaN                      NaN   SB28A   \n",
       "1045817                      NaN       X   * HILLARY VICTORY FUND    SA18   \n",
       "\n",
       "          file_num        tran_id election_tp  \n",
       "170      1082559.0  SA17.B1152295       P2016  \n",
       "239      1073515.0     SB28A.4590       P2016  \n",
       "240      1073515.0     SB28A.4538       P2016  \n",
       "241      1079053.0     SB28A.8163       G2016  \n",
       "242      1079053.0     SB28A.6919       G2016  \n",
       "...            ...            ...         ...  \n",
       "1043928  1099613.0        D207959       P2016  \n",
       "1043929  1099613.0        D207989       P2016  \n",
       "1043954  1126762.0      C10592506       P2016  \n",
       "1043977  1099613.0        D207972       P2016  \n",
       "1045817  1099613.0       C6513825       P2016  \n",
       "\n",
       "[26819 rows x 18 columns]"
      ]
     },
     "execution_count": 25,
     "metadata": {},
     "output_type": "execute_result"
    }
   ],
   "source": [
    "donor[donor.contb_receipt_amt<0]"
   ]
  },
  {
   "cell_type": "code",
   "execution_count": 26,
   "metadata": {
    "colab": {},
    "colab_type": "code",
    "id": "zuK-_aPb_KcQ"
   },
   "outputs": [],
   "source": [
    "# Remove rows where amount is in negative\n",
    "donor.drop(donor[donor.contb_receipt_amt<0].index, inplace=True)"
   ]
  },
  {
   "cell_type": "code",
   "execution_count": 27,
   "metadata": {
    "colab": {
     "base_uri": "https://localhost:8080/",
     "height": 225
    },
    "colab_type": "code",
    "executionInfo": {
     "elapsed": 424,
     "status": "ok",
     "timestamp": 1578198950750,
     "user": {
      "displayName": "Rajeev Ratan",
      "photoUrl": "https://lh3.googleusercontent.com/a-/AAuE7mCGo6aIm0tOcd5EhqWlYb0rime9sBvHS9YMpx0D2w=s64",
      "userId": "08597265227091462140"
     },
     "user_tz": 240
    },
    "id": "b23A1V9P_Mza",
    "outputId": "1c99fb76-efc8-48ab-8aed-179bab27d15b"
   },
   "outputs": [
    {
     "data": {
      "text/plain": [
       "25.00      210952\n",
       "50.00      194575\n",
       "100.00     174995\n",
       "10.00       58523\n",
       "35.00       54439\n",
       "            ...  \n",
       "1148.40         1\n",
       "79.84           1\n",
       "1007.00         1\n",
       "17.55           1\n",
       "1601.43         1\n",
       "Name: contb_receipt_amt, Length: 4157, dtype: int64"
      ]
     },
     "execution_count": 27,
     "metadata": {},
     "output_type": "execute_result"
    }
   ],
   "source": [
    "donor['contb_receipt_amt'].value_counts()"
   ]
  },
  {
   "cell_type": "code",
   "execution_count": 28,
   "metadata": {},
   "outputs": [
    {
     "data": {
      "text/html": [
       "<div>\n",
       "<style scoped>\n",
       "    .dataframe tbody tr th:only-of-type {\n",
       "        vertical-align: middle;\n",
       "    }\n",
       "\n",
       "    .dataframe tbody tr th {\n",
       "        vertical-align: top;\n",
       "    }\n",
       "\n",
       "    .dataframe thead th {\n",
       "        text-align: right;\n",
       "    }\n",
       "</style>\n",
       "<table border=\"1\" class=\"dataframe\">\n",
       "  <thead>\n",
       "    <tr style=\"text-align: right;\">\n",
       "      <th></th>\n",
       "      <th>cmte_id</th>\n",
       "      <th>cand_id</th>\n",
       "      <th>cand_nm</th>\n",
       "      <th>contbr_nm</th>\n",
       "      <th>contbr_city</th>\n",
       "      <th>contbr_st</th>\n",
       "      <th>contbr_zip</th>\n",
       "      <th>contbr_employer</th>\n",
       "      <th>contbr_occupation</th>\n",
       "      <th>contb_receipt_amt</th>\n",
       "      <th>contb_receipt_dt</th>\n",
       "      <th>receipt_desc</th>\n",
       "      <th>memo_cd</th>\n",
       "      <th>memo_text</th>\n",
       "      <th>form_tp</th>\n",
       "      <th>file_num</th>\n",
       "      <th>tran_id</th>\n",
       "      <th>election_tp</th>\n",
       "    </tr>\n",
       "  </thead>\n",
       "  <tbody>\n",
       "  </tbody>\n",
       "</table>\n",
       "</div>"
      ],
      "text/plain": [
       "Empty DataFrame\n",
       "Columns: [cmte_id, cand_id, cand_nm, contbr_nm, contbr_city, contbr_st, contbr_zip, contbr_employer, contbr_occupation, contb_receipt_amt, contb_receipt_dt, receipt_desc, memo_cd, memo_text, form_tp, file_num, tran_id, election_tp]\n",
       "Index: []"
      ]
     },
     "execution_count": 28,
     "metadata": {},
     "output_type": "execute_result"
    }
   ],
   "source": [
    "donor[donor.contb_receipt_amt<0]"
   ]
  },
  {
   "cell_type": "code",
   "execution_count": 29,
   "metadata": {
    "colab": {
     "base_uri": "https://localhost:8080/",
     "height": 35
    },
    "colab_type": "code",
    "executionInfo": {
     "elapsed": 752,
     "status": "ok",
     "timestamp": 1578198958374,
     "user": {
      "displayName": "Rajeev Ratan",
      "photoUrl": "https://lh3.googleusercontent.com/a-/AAuE7mCGo6aIm0tOcd5EhqWlYb0rime9sBvHS9YMpx0D2w=s64",
      "userId": "08597265227091462140"
     },
     "user_tz": 240
    },
    "id": "bCgaaQdj_OEw",
    "outputId": "2f99f2db-6ec9-4375-c3ca-e9a11b95c200"
   },
   "outputs": [
    {
     "name": "stdout",
     "output_type": "stream",
     "text": [
      "Average donation was: 152.98 with a standard deviation of: 490.67\n"
     ]
    }
   ],
   "source": [
    "# Mean and STD on donation amount\n",
    "\n",
    "donor_mean=donor['contb_receipt_amt'].mean()\n",
    "donor_std=donor['contb_receipt_amt'].std()\n",
    "\n",
    "print(\"Average donation was: %0.2f with a standard deviation of: %0.2f\" %(donor_mean,donor_std)) "
   ]
  },
  {
   "cell_type": "code",
   "execution_count": 30,
   "metadata": {
    "colab": {
     "base_uri": "https://localhost:8080/",
     "height": 208
    },
    "colab_type": "code",
    "executionInfo": {
     "elapsed": 426,
     "status": "ok",
     "timestamp": 1578198963095,
     "user": {
      "displayName": "Rajeev Ratan",
      "photoUrl": "https://lh3.googleusercontent.com/a-/AAuE7mCGo6aIm0tOcd5EhqWlYb0rime9sBvHS9YMpx0D2w=s64",
      "userId": "08597265227091462140"
     },
     "user_tz": 240
    },
    "id": "mAdWOiI-_P27",
    "outputId": "4f9087f1-608b-4306-b937-ad4e036a93d0"
   },
   "outputs": [
    {
     "data": {
      "text/plain": [
       "150178    18000.0\n",
       "383098    10800.0\n",
       "437587    10800.0\n",
       "856485    10800.0\n",
       "856486    10800.0\n",
       "394992    10800.0\n",
       "836985    10800.0\n",
       "552493    10800.0\n",
       "797290    10800.0\n",
       "859637    10800.0\n",
       "Name: contb_receipt_amt, dtype: float64"
      ]
     },
     "execution_count": 30,
     "metadata": {},
     "output_type": "execute_result"
    }
   ],
   "source": [
    "# Sort the data to get the top donations\n",
    "\n",
    "top_donation=donor['contb_receipt_amt'].copy()\n",
    "top_donation.sort_values(ascending=False, inplace=True)\n",
    "top_donation.head(10)"
   ]
  },
  {
   "cell_type": "code",
   "execution_count": 31,
   "metadata": {
    "colab": {
     "base_uri": "https://localhost:8080/",
     "height": 208
    },
    "colab_type": "code",
    "executionInfo": {
     "elapsed": 596,
     "status": "ok",
     "timestamp": 1578198968913,
     "user": {
      "displayName": "Rajeev Ratan",
      "photoUrl": "https://lh3.googleusercontent.com/a-/AAuE7mCGo6aIm0tOcd5EhqWlYb0rime9sBvHS9YMpx0D2w=s64",
      "userId": "08597265227091462140"
     },
     "user_tz": 240
    },
    "id": "300P4A7k_RF1",
    "outputId": "1bd03e79-4788-43f0-d3e5-3250709b877f"
   },
   "outputs": [
    {
     "data": {
      "text/plain": [
       "25.0     210952\n",
       "50.0     194575\n",
       "100.0    174995\n",
       "10.0      58523\n",
       "35.0      54439\n",
       "250.0     47187\n",
       "5.0       33737\n",
       "500.0     22773\n",
       "200.0     19504\n",
       "20.0      17574\n",
       "Name: contb_receipt_amt, dtype: int64"
      ]
     },
     "execution_count": 31,
     "metadata": {},
     "output_type": "execute_result"
    }
   ],
   "source": [
    "top_donation.value_counts(sort=True).head(10)"
   ]
  },
  {
   "cell_type": "code",
   "execution_count": 32,
   "metadata": {
    "colab": {
     "base_uri": "https://localhost:8080/",
     "height": 621
    },
    "colab_type": "code",
    "executionInfo": {
     "elapsed": 1141,
     "status": "ok",
     "timestamp": 1578198975741,
     "user": {
      "displayName": "Rajeev Ratan",
      "photoUrl": "https://lh3.googleusercontent.com/a-/AAuE7mCGo6aIm0tOcd5EhqWlYb0rime9sBvHS9YMpx0D2w=s64",
      "userId": "08597265227091462140"
     },
     "user_tz": 240
    },
    "id": "q2iATruZ_SeT",
    "outputId": "43f0ea50-3e08-412f-9b34-23d4290cd0bf"
   },
   "outputs": [
    {
     "data": {
      "text/plain": [
       "<AxesSubplot:>"
      ]
     },
     "execution_count": 32,
     "metadata": {},
     "output_type": "execute_result"
    },
    {
     "data": {
      "image/png": "[encoded data removed]",
      "text/plain": [
       "<Figure size 432x288 with 1 Axes>"
      ]
     },
     "metadata": {},
     "output_type": "display_data"
    }
   ],
   "source": [
    "# Create a series of donation limited to 2500\n",
    "com_don=top_donation[top_donation<2500]\n",
    "com_don.hist(bins=100)"
   ]
  },
  {
   "cell_type": "markdown",
   "metadata": {
    "colab_type": "text",
    "id": "w7obhFA-_WHK"
   },
   "source": [
    "Seperate donations by Party, in order to do this, create a new 'Party' column. Do this by starting with the candidates and their affliliation."
   ]
  },
  {
   "cell_type": "code",
   "execution_count": 33,
   "metadata": {
    "colab": {
     "base_uri": "https://localhost:8080/",
     "height": 69
    },
    "colab_type": "code",
    "executionInfo": {
     "elapsed": 473,
     "status": "ok",
     "timestamp": 1578198993280,
     "user": {
      "displayName": "Rajeev Ratan",
      "photoUrl": "https://lh3.googleusercontent.com/a-/AAuE7mCGo6aIm0tOcd5EhqWlYb0rime9sBvHS9YMpx0D2w=s64",
      "userId": "08597265227091462140"
     },
     "user_tz": 240
    },
    "id": "CdV-Qsbw_UAP",
    "outputId": "a1672802-575c-493d-9557-49d37669562a"
   },
   "outputs": [
    {
     "data": {
      "text/plain": [
       "array(['Rubio, Marco', 'Santorum, Richard J.', 'Perry, James R. (Rick)',\n",
       "       'Carson, Benjamin S.', \"Cruz, Rafael Edward 'Ted'\", nan,\n",
       "       'Paul, Rand', 'Clinton, Hillary Rodham'], dtype=object)"
      ]
     },
     "execution_count": 33,
     "metadata": {},
     "output_type": "execute_result"
    }
   ],
   "source": [
    "# Grab candidate names from data\n",
    "candidates=donor.cand_nm.unique()\n",
    "candidates"
   ]
  },
  {
   "cell_type": "code",
   "execution_count": 34,
   "metadata": {
    "colab": {},
    "colab_type": "code",
    "id": "zy3FQ0eY_YZb"
   },
   "outputs": [],
   "source": [
    "# Dictionary of party affiliation\n",
    "party_map = {'Rubio, Marco': 'Republican',\n",
    "           'Santorum, Richard J.': 'Republican',\n",
    "           'Perry, James R. (Rick)': 'Republican',\n",
    "           'Carson, Benjamin S.': 'Republican',\n",
    "           \"Cruz, Rafael Edward 'Ted'\": 'Republican',\n",
    "           'Paul, Rand': 'Republican',\n",
    "           'Clinton, Hillary Rodham': 'Democrat',}\n",
    "           \n",
    "\n",
    "# Now map the party with candidate\n",
    "donor['Party'] = donor.cand_nm.map(party_map)"
   ]
  },
  {
   "cell_type": "code",
   "execution_count": 35,
   "metadata": {
    "colab": {
     "base_uri": "https://localhost:8080/",
     "height": 343
    },
    "colab_type": "code",
    "executionInfo": {
     "elapsed": 506,
     "status": "ok",
     "timestamp": 1578199004884,
     "user": {
      "displayName": "Rajeev Ratan",
      "photoUrl": "https://lh3.googleusercontent.com/a-/AAuE7mCGo6aIm0tOcd5EhqWlYb0rime9sBvHS9YMpx0D2w=s64",
      "userId": "08597265227091462140"
     },
     "user_tz": 240
    },
    "id": "DyN4vSvC_Z9z",
    "outputId": "bccc925f-24c0-4958-da71-b3c8954bf535"
   },
   "outputs": [
    {
     "data": {
      "text/html": [
       "<div>\n",
       "<style scoped>\n",
       "    .dataframe tbody tr th:only-of-type {\n",
       "        vertical-align: middle;\n",
       "    }\n",
       "\n",
       "    .dataframe tbody tr th {\n",
       "        vertical-align: top;\n",
       "    }\n",
       "\n",
       "    .dataframe thead th {\n",
       "        text-align: right;\n",
       "    }\n",
       "</style>\n",
       "<table border=\"1\" class=\"dataframe\">\n",
       "  <thead>\n",
       "    <tr style=\"text-align: right;\">\n",
       "      <th></th>\n",
       "      <th>cmte_id</th>\n",
       "      <th>cand_id</th>\n",
       "      <th>cand_nm</th>\n",
       "      <th>contbr_nm</th>\n",
       "      <th>contbr_city</th>\n",
       "      <th>contbr_st</th>\n",
       "      <th>contbr_zip</th>\n",
       "      <th>contbr_employer</th>\n",
       "      <th>contbr_occupation</th>\n",
       "      <th>contb_receipt_amt</th>\n",
       "      <th>contb_receipt_dt</th>\n",
       "      <th>receipt_desc</th>\n",
       "      <th>memo_cd</th>\n",
       "      <th>memo_text</th>\n",
       "      <th>form_tp</th>\n",
       "      <th>file_num</th>\n",
       "      <th>tran_id</th>\n",
       "      <th>election_tp</th>\n",
       "      <th>Party</th>\n",
       "    </tr>\n",
       "  </thead>\n",
       "  <tbody>\n",
       "    <tr>\n",
       "      <th>0</th>\n",
       "      <td>C00458844</td>\n",
       "      <td>P60006723</td>\n",
       "      <td>Rubio, Marco</td>\n",
       "      <td>BLUM, MAUREEN</td>\n",
       "      <td>WASHINGTON</td>\n",
       "      <td>20</td>\n",
       "      <td>DC</td>\n",
       "      <td>STRATEGIC COALITIONS &amp; INITIATIVES LL</td>\n",
       "      <td>OUTREACH DIRECTOR</td>\n",
       "      <td>175.0</td>\n",
       "      <td>15-Mar-16</td>\n",
       "      <td>NaN</td>\n",
       "      <td>NaN</td>\n",
       "      <td>NaN</td>\n",
       "      <td>SA17A</td>\n",
       "      <td>1082559.0</td>\n",
       "      <td>SA17.1152124</td>\n",
       "      <td>P2016</td>\n",
       "      <td>Republican</td>\n",
       "    </tr>\n",
       "    <tr>\n",
       "      <th>1</th>\n",
       "      <td>C00458844</td>\n",
       "      <td>P60006723</td>\n",
       "      <td>Rubio, Marco</td>\n",
       "      <td>DODSON, MARK B. MR.</td>\n",
       "      <td>ATLANTA</td>\n",
       "      <td>30</td>\n",
       "      <td>GA</td>\n",
       "      <td>MORTGAGE CAPITAL ADVISORS</td>\n",
       "      <td>PRIVATE MORTGAGE BANKING</td>\n",
       "      <td>25.0</td>\n",
       "      <td>16-Mar-16</td>\n",
       "      <td>NaN</td>\n",
       "      <td>NaN</td>\n",
       "      <td>DEBT RETIREMENT</td>\n",
       "      <td>SA17A</td>\n",
       "      <td>1082559.0</td>\n",
       "      <td>SA17.1153048</td>\n",
       "      <td>P2016</td>\n",
       "      <td>Republican</td>\n",
       "    </tr>\n",
       "    <tr>\n",
       "      <th>2</th>\n",
       "      <td>C00458844</td>\n",
       "      <td>P60006723</td>\n",
       "      <td>Rubio, Marco</td>\n",
       "      <td>CHILDERS, WILLIAM</td>\n",
       "      <td>DPO</td>\n",
       "      <td>AE</td>\n",
       "      <td>98309998</td>\n",
       "      <td>DIPLOMAT</td>\n",
       "      <td>US GOVERNMENT</td>\n",
       "      <td>100.0</td>\n",
       "      <td>20-Feb-16</td>\n",
       "      <td>NaN</td>\n",
       "      <td>NaN</td>\n",
       "      <td>NaN</td>\n",
       "      <td>SA17A</td>\n",
       "      <td>1056862.0</td>\n",
       "      <td>SA17.1020839</td>\n",
       "      <td>P2016</td>\n",
       "      <td>Republican</td>\n",
       "    </tr>\n",
       "    <tr>\n",
       "      <th>3</th>\n",
       "      <td>C00458844</td>\n",
       "      <td>P60006723</td>\n",
       "      <td>Rubio, Marco</td>\n",
       "      <td>RUCINSKI, ROBERT</td>\n",
       "      <td>APO</td>\n",
       "      <td>AE</td>\n",
       "      <td>90960009</td>\n",
       "      <td>US ARMY</td>\n",
       "      <td>PHYSICIAN</td>\n",
       "      <td>200.0</td>\n",
       "      <td>10-Mar-16</td>\n",
       "      <td>NaN</td>\n",
       "      <td>NaN</td>\n",
       "      <td>NaN</td>\n",
       "      <td>SA17A</td>\n",
       "      <td>1082559.0</td>\n",
       "      <td>SA17.1078677</td>\n",
       "      <td>P2016</td>\n",
       "      <td>Republican</td>\n",
       "    </tr>\n",
       "    <tr>\n",
       "      <th>4</th>\n",
       "      <td>C00458844</td>\n",
       "      <td>P60006723</td>\n",
       "      <td>Rubio, Marco</td>\n",
       "      <td>RUCINSKI, ROBERT</td>\n",
       "      <td>APO</td>\n",
       "      <td>AE</td>\n",
       "      <td>90960009</td>\n",
       "      <td>US ARMY</td>\n",
       "      <td>PHYSICIAN</td>\n",
       "      <td>100.0</td>\n",
       "      <td>08-Mar-16</td>\n",
       "      <td>NaN</td>\n",
       "      <td>NaN</td>\n",
       "      <td>NaN</td>\n",
       "      <td>SA17A</td>\n",
       "      <td>1082559.0</td>\n",
       "      <td>SA17.1074981</td>\n",
       "      <td>P2016</td>\n",
       "      <td>Republican</td>\n",
       "    </tr>\n",
       "  </tbody>\n",
       "</table>\n",
       "</div>"
      ],
      "text/plain": [
       "     cmte_id    cand_id       cand_nm            contbr_nm contbr_city  \\\n",
       "0  C00458844  P60006723  Rubio, Marco        BLUM, MAUREEN  WASHINGTON   \n",
       "1  C00458844  P60006723  Rubio, Marco  DODSON, MARK B. MR.     ATLANTA   \n",
       "2  C00458844  P60006723  Rubio, Marco    CHILDERS, WILLIAM         DPO   \n",
       "3  C00458844  P60006723  Rubio, Marco     RUCINSKI, ROBERT         APO   \n",
       "4  C00458844  P60006723  Rubio, Marco     RUCINSKI, ROBERT         APO   \n",
       "\n",
       "  contbr_st contbr_zip                        contbr_employer  \\\n",
       "0        20         DC  STRATEGIC COALITIONS & INITIATIVES LL   \n",
       "1        30         GA              MORTGAGE CAPITAL ADVISORS   \n",
       "2        AE   98309998                               DIPLOMAT   \n",
       "3        AE   90960009                                US ARMY   \n",
       "4        AE   90960009                                US ARMY   \n",
       "\n",
       "          contbr_occupation  contb_receipt_amt contb_receipt_dt receipt_desc  \\\n",
       "0         OUTREACH DIRECTOR              175.0        15-Mar-16          NaN   \n",
       "1  PRIVATE MORTGAGE BANKING               25.0        16-Mar-16          NaN   \n",
       "2             US GOVERNMENT              100.0        20-Feb-16          NaN   \n",
       "3                 PHYSICIAN              200.0        10-Mar-16          NaN   \n",
       "4                 PHYSICIAN              100.0        08-Mar-16          NaN   \n",
       "\n",
       "  memo_cd        memo_text form_tp   file_num       tran_id election_tp  \\\n",
       "0     NaN              NaN   SA17A  1082559.0  SA17.1152124       P2016   \n",
       "1     NaN  DEBT RETIREMENT   SA17A  1082559.0  SA17.1153048       P2016   \n",
       "2     NaN              NaN   SA17A  1056862.0  SA17.1020839       P2016   \n",
       "3     NaN              NaN   SA17A  1082559.0  SA17.1078677       P2016   \n",
       "4     NaN              NaN   SA17A  1082559.0  SA17.1074981       P2016   \n",
       "\n",
       "        Party  \n",
       "0  Republican  \n",
       "1  Republican  \n",
       "2  Republican  \n",
       "3  Republican  \n",
       "4  Republican  "
      ]
     },
     "execution_count": 35,
     "metadata": {},
     "output_type": "execute_result"
    }
   ],
   "source": [
    "donor.head()"
   ]
  },
  {
   "cell_type": "code",
   "execution_count": 38,
   "metadata": {
    "colab": {
     "base_uri": "https://localhost:8080/",
     "height": 173
    },
    "colab_type": "code",
    "executionInfo": {
     "elapsed": 427,
     "status": "ok",
     "timestamp": 1578199017579,
     "user": {
      "displayName": "Rajeev Ratan",
      "photoUrl": "https://lh3.googleusercontent.com/a-/AAuE7mCGo6aIm0tOcd5EhqWlYb0rime9sBvHS9YMpx0D2w=s64",
      "userId": "08597265227091462140"
     },
     "user_tz": 240
    },
    "id": "0jJcmc6y_bMX",
    "outputId": "8b57548b-6489-4ee3-9c1f-78273cc65535"
   },
   "outputs": [
    {
     "data": {
      "text/plain": [
       "cand_nm\n",
       "Carson, Benjamin S.          244905\n",
       "Clinton, Hillary Rodham      103402\n",
       "Cruz, Rafael Edward 'Ted'    541101\n",
       "Paul, Rand                    32196\n",
       "Perry, James R. (Rick)          875\n",
       "Rubio, Marco                  99259\n",
       "Santorum, Richard J.              2\n",
       "Name: contb_receipt_amt, dtype: int64"
      ]
     },
     "execution_count": 38,
     "metadata": {},
     "output_type": "execute_result"
    }
   ],
   "source": [
    "#  Quick look a the total amounts received by each candidate\n",
    "donor.groupby('cand_nm')['contb_receipt_amt'].count()"
   ]
  },
  {
   "cell_type": "code",
   "execution_count": 39,
   "metadata": {
    "colab": {
     "base_uri": "https://localhost:8080/",
     "height": 173
    },
    "colab_type": "code",
    "executionInfo": {
     "elapsed": 502,
     "status": "ok",
     "timestamp": 1578199022998,
     "user": {
      "displayName": "Rajeev Ratan",
      "photoUrl": "https://lh3.googleusercontent.com/a-/AAuE7mCGo6aIm0tOcd5EhqWlYb0rime9sBvHS9YMpx0D2w=s64",
      "userId": "08597265227091462140"
     },
     "user_tz": 240
    },
    "id": "TI8JTA6t_eZc",
    "outputId": "e6d464ea-789a-43b8-fc00-10bef8e3f1b6"
   },
   "outputs": [
    {
     "data": {
      "text/plain": [
       "cand_nm\n",
       "Carson, Benjamin S.          2.901400e+07\n",
       "Clinton, Hillary Rodham      9.493156e+06\n",
       "Cruz, Rafael Edward 'Ted'    6.975275e+07\n",
       "Paul, Rand                   6.314863e+06\n",
       "Perry, James R. (Rick)       1.189868e+06\n",
       "Rubio, Marco                 4.054208e+07\n",
       "Santorum, Richard J.         3.500000e+02\n",
       "Name: contb_receipt_amt, dtype: float64"
      ]
     },
     "execution_count": 39,
     "metadata": {},
     "output_type": "execute_result"
    }
   ],
   "source": [
    "# Total donation received by each candidate\n",
    "donor.groupby('cand_nm')['contb_receipt_amt'].sum()"
   ]
  },
  {
   "cell_type": "code",
   "execution_count": 40,
   "metadata": {
    "colab": {
     "base_uri": "https://localhost:8080/",
     "height": 381
    },
    "colab_type": "code",
    "executionInfo": {
     "elapsed": 471,
     "status": "ok",
     "timestamp": 1578199027519,
     "user": {
      "displayName": "Rajeev Ratan",
      "photoUrl": "https://lh3.googleusercontent.com/a-/AAuE7mCGo6aIm0tOcd5EhqWlYb0rime9sBvHS9YMpx0D2w=s64",
      "userId": "08597265227091462140"
     },
     "user_tz": 240
    },
    "id": "_bPeRpvt_fs1",
    "outputId": "71e37bc0-59eb-41a7-a6f0-774c6dcdc152"
   },
   "outputs": [
    {
     "name": "stdout",
     "output_type": "stream",
     "text": [
      "The candidate Carson, Benjamin S. raised 29014000 dollars\n",
      "\n",
      "\n",
      "The candidate Clinton, Hillary Rodham raised 9493156 dollars\n",
      "\n",
      "\n",
      "The candidate Cruz, Rafael Edward 'Ted' raised 69752747 dollars\n",
      "\n",
      "\n",
      "The candidate Paul, Rand raised 6314863 dollars\n",
      "\n",
      "\n",
      "The candidate Perry, James R. (Rick) raised 1189868 dollars\n",
      "\n",
      "\n",
      "The candidate Rubio, Marco raised 40542078 dollars\n",
      "\n",
      "\n",
      "The candidate Santorum, Richard J. raised 350 dollars\n",
      "\n",
      "\n"
     ]
    }
   ],
   "source": [
    "# To make it more readable\n",
    "cand_amount=donor.groupby('cand_nm')['contb_receipt_amt'].sum()\n",
    "i=0\n",
    "for don in cand_amount:\n",
    "    print(\"The candidate %s raised %.0f dollars\" %(cand_amount.index[i],don))\n",
    "    print(\"\\n\")\n",
    "    i +=1"
   ]
  },
  {
   "cell_type": "code",
   "execution_count": 41,
   "metadata": {
    "colab": {
     "base_uri": "https://localhost:8080/",
     "height": 915
    },
    "colab_type": "code",
    "executionInfo": {
     "elapsed": 1426,
     "status": "ok",
     "timestamp": 1578199034377,
     "user": {
      "displayName": "Rajeev Ratan",
      "photoUrl": "https://lh3.googleusercontent.com/a-/AAuE7mCGo6aIm0tOcd5EhqWlYb0rime9sBvHS9YMpx0D2w=s64",
      "userId": "08597265227091462140"
     },
     "user_tz": 240
    },
    "id": "5FlOVD3-_g0I",
    "outputId": "ec6ac679-f262-4a73-f4db-feec595e706d"
   },
   "outputs": [
    {
     "data": {
      "text/plain": [
       "<AxesSubplot:xlabel='cand_nm'>"
      ]
     },
     "execution_count": 41,
     "metadata": {},
     "output_type": "execute_result"
    },
    {
     "data": {
      "image/png": "[encoded data removed]",
      "text/plain": [
       "<Figure size 432x288 with 1 Axes>"
      ]
     },
     "metadata": {},
     "output_type": "display_data"
    }
   ],
   "source": [
    "# Plot graph\n",
    "cand_amount.plot(kind='bar',legend=True,logy=True, color='blue')"
   ]
  },
  {
   "cell_type": "code",
   "execution_count": 38,
   "metadata": {
    "colab": {
     "base_uri": "https://localhost:8080/",
     "height": 753
    },
    "colab_type": "code",
    "executionInfo": {
     "elapsed": 1027,
     "status": "ok",
     "timestamp": 1578199041098,
     "user": {
      "displayName": "Rajeev Ratan",
      "photoUrl": "https://lh3.googleusercontent.com/a-/AAuE7mCGo6aIm0tOcd5EhqWlYb0rime9sBvHS9YMpx0D2w=s64",
      "userId": "08597265227091462140"
     },
     "user_tz": 240
    },
    "id": "hGkzkb_C_iQV",
    "outputId": "c06b9028-4ff5-4f46-a75c-bc48c62496cf"
   },
   "outputs": [
    {
     "data": {
      "text/plain": [
       "<matplotlib.axes._subplots.AxesSubplot at 0x7f94d8655ac8>"
      ]
     },
     "execution_count": 38,
     "metadata": {
      "tags": []
     },
     "output_type": "execute_result"
    },
    {
     "data": {
      "image/png": "[encoded data removed]",
      "text/plain": [
       "<Figure size 1008x720 with 1 Axes>"
      ]
     },
     "metadata": {
      "tags": []
     },
     "output_type": "display_data"
    }
   ],
   "source": [
    "# Compare Democrat versus Republican donations\n",
    "donor.groupby('Party')['contb_receipt_amt'].sum().plot(kind='bar',legend=True,logy=True,color='seagreen')"
   ]
  },
  {
   "cell_type": "code",
   "execution_count": 42,
   "metadata": {
    "colab": {
     "base_uri": "https://localhost:8080/",
     "height": 446
    },
    "colab_type": "code",
    "executionInfo": {
     "elapsed": 676,
     "status": "ok",
     "timestamp": 1578199052294,
     "user": {
      "displayName": "Rajeev Ratan",
      "photoUrl": "https://lh3.googleusercontent.com/a-/AAuE7mCGo6aIm0tOcd5EhqWlYb0rime9sBvHS9YMpx0D2w=s64",
      "userId": "08597265227091462140"
     },
     "user_tz": 240
    },
    "id": "U7MYdxmn_j42",
    "outputId": "f1ae9229-3fa7-440f-b961-64e5e2b7b870"
   },
   "outputs": [
    {
     "data": {
      "text/html": [
       "<div>\n",
       "<style scoped>\n",
       "    .dataframe tbody tr th:only-of-type {\n",
       "        vertical-align: middle;\n",
       "    }\n",
       "\n",
       "    .dataframe tbody tr th {\n",
       "        vertical-align: top;\n",
       "    }\n",
       "\n",
       "    .dataframe thead th {\n",
       "        text-align: right;\n",
       "    }\n",
       "</style>\n",
       "<table border=\"1\" class=\"dataframe\">\n",
       "  <thead>\n",
       "    <tr style=\"text-align: right;\">\n",
       "      <th>Party</th>\n",
       "      <th>Democrat</th>\n",
       "      <th>Republican</th>\n",
       "    </tr>\n",
       "    <tr>\n",
       "      <th>contbr_occupation</th>\n",
       "      <th></th>\n",
       "      <th></th>\n",
       "    </tr>\n",
       "  </thead>\n",
       "  <tbody>\n",
       "    <tr>\n",
       "      <th>ARTIST</th>\n",
       "      <td>100.00</td>\n",
       "      <td>NaN</td>\n",
       "    </tr>\n",
       "    <tr>\n",
       "      <th>CLERGY</th>\n",
       "      <td>1000.00</td>\n",
       "      <td>NaN</td>\n",
       "    </tr>\n",
       "    <tr>\n",
       "      <th>EDUCATOR</th>\n",
       "      <td>110.55</td>\n",
       "      <td>NaN</td>\n",
       "    </tr>\n",
       "    <tr>\n",
       "      <th>MED TECH, RAD SUPERVISOR</th>\n",
       "      <td>56.85</td>\n",
       "      <td>NaN</td>\n",
       "    </tr>\n",
       "    <tr>\n",
       "      <th>RETIRED</th>\n",
       "      <td>10.00</td>\n",
       "      <td>NaN</td>\n",
       "    </tr>\n",
       "    <tr>\n",
       "      <th>...</th>\n",
       "      <td>...</td>\n",
       "      <td>...</td>\n",
       "    </tr>\n",
       "    <tr>\n",
       "      <th>Z</th>\n",
       "      <td>NaN</td>\n",
       "      <td>401.6</td>\n",
       "    </tr>\n",
       "    <tr>\n",
       "      <th>ZACARIAS ACTUARIAL CONSULTANTS</th>\n",
       "      <td>NaN</td>\n",
       "      <td>125.0</td>\n",
       "    </tr>\n",
       "    <tr>\n",
       "      <th>ZGOLF FOOD &amp; BEVERAGE SERVICES</th>\n",
       "      <td>NaN</td>\n",
       "      <td>500.0</td>\n",
       "    </tr>\n",
       "    <tr>\n",
       "      <th>ZONE MANAGER</th>\n",
       "      <td>155.87</td>\n",
       "      <td>NaN</td>\n",
       "    </tr>\n",
       "    <tr>\n",
       "      <th>`</th>\n",
       "      <td>NaN</td>\n",
       "      <td>500.0</td>\n",
       "    </tr>\n",
       "  </tbody>\n",
       "</table>\n",
       "<p>27981 rows × 2 columns</p>\n",
       "</div>"
      ],
      "text/plain": [
       "Party                           Democrat  Republican\n",
       "contbr_occupation                                   \n",
       " ARTIST                           100.00         NaN\n",
       " CLERGY                          1000.00         NaN\n",
       " EDUCATOR                         110.55         NaN\n",
       " MED TECH, RAD SUPERVISOR          56.85         NaN\n",
       " RETIRED                           10.00         NaN\n",
       "...                                  ...         ...\n",
       "Z                                    NaN       401.6\n",
       "ZACARIAS ACTUARIAL CONSULTANTS       NaN       125.0\n",
       "ZGOLF FOOD & BEVERAGE SERVICES       NaN       500.0\n",
       "ZONE MANAGER                      155.87         NaN\n",
       "`                                    NaN       500.0\n",
       "\n",
       "[27981 rows x 2 columns]"
      ]
     },
     "execution_count": 42,
     "metadata": {},
     "output_type": "execute_result"
    }
   ],
   "source": [
    "# Occupations of dononrs\n",
    "occupation=donor.pivot_table('contb_receipt_amt',index='contbr_occupation',columns='Party', aggfunc='sum')\n",
    "occupation"
   ]
  },
  {
   "cell_type": "code",
   "execution_count": 0,
   "metadata": {
    "colab": {},
    "colab_type": "code",
    "id": "aWcTxSgy_kOb"
   },
   "outputs": [],
   "source": [
    "occupation = occupation[occupation.sum(1) > 1000000]"
   ]
  },
  {
   "cell_type": "code",
   "execution_count": 43,
   "metadata": {
    "colab": {
     "base_uri": "https://localhost:8080/",
     "height": 631
    },
    "colab_type": "code",
    "executionInfo": {
     "elapsed": 420,
     "status": "ok",
     "timestamp": 1578199066800,
     "user": {
      "displayName": "Rajeev Ratan",
      "photoUrl": "https://lh3.googleusercontent.com/a-/AAuE7mCGo6aIm0tOcd5EhqWlYb0rime9sBvHS9YMpx0D2w=s64",
      "userId": "08597265227091462140"
     },
     "user_tz": 240
    },
    "id": "sqaKDnCL_dvZ",
    "outputId": "a68057f2-bf2c-4a10-b3d7-7521a46f5633"
   },
   "outputs": [
    {
     "data": {
      "text/html": [
       "<div>\n",
       "<style scoped>\n",
       "    .dataframe tbody tr th:only-of-type {\n",
       "        vertical-align: middle;\n",
       "    }\n",
       "\n",
       "    .dataframe tbody tr th {\n",
       "        vertical-align: top;\n",
       "    }\n",
       "\n",
       "    .dataframe thead th {\n",
       "        text-align: right;\n",
       "    }\n",
       "</style>\n",
       "<table border=\"1\" class=\"dataframe\">\n",
       "  <thead>\n",
       "    <tr style=\"text-align: right;\">\n",
       "      <th>Party</th>\n",
       "      <th>Democrat</th>\n",
       "      <th>Republican</th>\n",
       "    </tr>\n",
       "    <tr>\n",
       "      <th>contbr_occupation</th>\n",
       "      <th></th>\n",
       "      <th></th>\n",
       "    </tr>\n",
       "  </thead>\n",
       "  <tbody>\n",
       "    <tr>\n",
       "      <th>ARTIST</th>\n",
       "      <td>100.00</td>\n",
       "      <td>NaN</td>\n",
       "    </tr>\n",
       "    <tr>\n",
       "      <th>CLERGY</th>\n",
       "      <td>1000.00</td>\n",
       "      <td>NaN</td>\n",
       "    </tr>\n",
       "    <tr>\n",
       "      <th>EDUCATOR</th>\n",
       "      <td>110.55</td>\n",
       "      <td>NaN</td>\n",
       "    </tr>\n",
       "    <tr>\n",
       "      <th>MED TECH, RAD SUPERVISOR</th>\n",
       "      <td>56.85</td>\n",
       "      <td>NaN</td>\n",
       "    </tr>\n",
       "    <tr>\n",
       "      <th>RETIRED</th>\n",
       "      <td>10.00</td>\n",
       "      <td>NaN</td>\n",
       "    </tr>\n",
       "    <tr>\n",
       "      <th>...</th>\n",
       "      <td>...</td>\n",
       "      <td>...</td>\n",
       "    </tr>\n",
       "    <tr>\n",
       "      <th>Z</th>\n",
       "      <td>NaN</td>\n",
       "      <td>401.6</td>\n",
       "    </tr>\n",
       "    <tr>\n",
       "      <th>ZACARIAS ACTUARIAL CONSULTANTS</th>\n",
       "      <td>NaN</td>\n",
       "      <td>125.0</td>\n",
       "    </tr>\n",
       "    <tr>\n",
       "      <th>ZGOLF FOOD &amp; BEVERAGE SERVICES</th>\n",
       "      <td>NaN</td>\n",
       "      <td>500.0</td>\n",
       "    </tr>\n",
       "    <tr>\n",
       "      <th>ZONE MANAGER</th>\n",
       "      <td>155.87</td>\n",
       "      <td>NaN</td>\n",
       "    </tr>\n",
       "    <tr>\n",
       "      <th>`</th>\n",
       "      <td>NaN</td>\n",
       "      <td>500.0</td>\n",
       "    </tr>\n",
       "  </tbody>\n",
       "</table>\n",
       "<p>27981 rows × 2 columns</p>\n",
       "</div>"
      ],
      "text/plain": [
       "Party                           Democrat  Republican\n",
       "contbr_occupation                                   \n",
       " ARTIST                           100.00         NaN\n",
       " CLERGY                          1000.00         NaN\n",
       " EDUCATOR                         110.55         NaN\n",
       " MED TECH, RAD SUPERVISOR          56.85         NaN\n",
       " RETIRED                           10.00         NaN\n",
       "...                                  ...         ...\n",
       "Z                                    NaN       401.6\n",
       "ZACARIAS ACTUARIAL CONSULTANTS       NaN       125.0\n",
       "ZGOLF FOOD & BEVERAGE SERVICES       NaN       500.0\n",
       "ZONE MANAGER                      155.87         NaN\n",
       "`                                    NaN       500.0\n",
       "\n",
       "[27981 rows x 2 columns]"
      ]
     },
     "execution_count": 43,
     "metadata": {},
     "output_type": "execute_result"
    }
   ],
   "source": [
    "occupation"
   ]
  },
  {
   "cell_type": "code",
   "execution_count": null,
   "metadata": {
    "colab": {
     "base_uri": "https://localhost:8080/",
     "height": 747
    },
    "colab_type": "code",
    "executionInfo": {
     "elapsed": 1074,
     "status": "ok",
     "timestamp": 1578199073329,
     "user": {
      "displayName": "Rajeev Ratan",
      "photoUrl": "https://lh3.googleusercontent.com/a-/AAuE7mCGo6aIm0tOcd5EhqWlYb0rime9sBvHS9YMpx0D2w=s64",
      "userId": "08597265227091462140"
     },
     "user_tz": 240
    },
    "id": "oNfkzSWa_qao",
    "outputId": "5547b90d-71bc-4d45-c115-62dc7da3b410"
   },
   "outputs": [
    {
     "data": {
      "text/plain": [
       "<AxesSubplot:ylabel='contbr_occupation'>"
      ]
     },
     "execution_count": 44,
     "metadata": {},
     "output_type": "execute_result"
    }
   ],
   "source": [
    "# Plot occupation\n",
    "occupation.plot(kind='barh',figsize=(10,12),fontsize=12)"
   ]
  },
  {
   "cell_type": "code",
   "execution_count": 43,
   "metadata": {
    "colab": {
     "base_uri": "https://localhost:8080/",
     "height": 124
    },
    "colab_type": "code",
    "executionInfo": {
     "elapsed": 428,
     "status": "ok",
     "timestamp": 1578199083176,
     "user": {
      "displayName": "Rajeev Ratan",
      "photoUrl": "https://lh3.googleusercontent.com/a-/AAuE7mCGo6aIm0tOcd5EhqWlYb0rime9sBvHS9YMpx0D2w=s64",
      "userId": "08597265227091462140"
     },
     "user_tz": 240
    },
    "id": "t48Hf7i7_r2Y",
    "outputId": "3c20e9ed-0b55-496d-d530-0867f1b449c0"
   },
   "outputs": [
    {
     "name": "stderr",
     "output_type": "stream",
     "text": [
      "/usr/local/lib/python3.6/dist-packages/pandas/core/frame.py:4117: SettingWithCopyWarning: \n",
      "A value is trying to be set on a copy of a slice from a DataFrame\n",
      "\n",
      "See the caveats in the documentation: http://pandas.pydata.org/pandas-docs/stable/user_guide/indexing.html#returning-a-view-versus-a-copy\n",
      "  errors=errors,\n"
     ]
    }
   ],
   "source": [
    "# Drop rows where there is no information\n",
    "occupation.drop(['INFORMATION REQUESTED PER BEST EFFORTS','INFORMATION REQUESTED'],axis=0,inplace=True)"
   ]
  },
  {
   "cell_type": "code",
   "execution_count": 44,
   "metadata": {
    "colab": {
     "base_uri": "https://localhost:8080/",
     "height": 753
    },
    "colab_type": "code",
    "executionInfo": {
     "elapsed": 1074,
     "status": "ok",
     "timestamp": 1578199090485,
     "user": {
      "displayName": "Rajeev Ratan",
      "photoUrl": "https://lh3.googleusercontent.com/a-/AAuE7mCGo6aIm0tOcd5EhqWlYb0rime9sBvHS9YMpx0D2w=s64",
      "userId": "08597265227091462140"
     },
     "user_tz": 240
    },
    "id": "I-pHWNJ__uaO",
    "outputId": "fb955a3c-218c-450e-a3f5-cdf79fdeb10d"
   },
   "outputs": [
    {
     "data": {
      "text/plain": [
       "<matplotlib.axes._subplots.AxesSubplot at 0x7f94d84615c0>"
      ]
     },
     "execution_count": 44,
     "metadata": {
      "tags": []
     },
     "output_type": "execute_result"
    },
    {
     "data": {
      "image/png": "[encoded data removed]",
      "text/plain": [
       "<Figure size 720x864 with 1 Axes>"
      ]
     },
     "metadata": {
      "tags": []
     },
     "output_type": "display_data"
    }
   ],
   "source": [
    "occupation.plot(kind='barh',figsize=(10,12),cmap='seismic')"
   ]
  },
  {
   "cell_type": "code",
   "execution_count": 0,
   "metadata": {
    "colab": {},
    "colab_type": "code",
    "id": "FdZQbwVo_wCR"
   },
   "outputs": [],
   "source": []
  }
 ],
 "metadata": {
  "colab": {
   "name": "Case Study 9 - 2016 US President Election Analysis.ipynb",
   "provenance": []
  },
  "kernelspec": {
   "display_name": "Python 3 (ipykernel)",
   "language": "python",
   "name": "python3"
  },
  "language_info": {
   "codemirror_mode": {
    "name": "ipython",
    "version": 3
   },
   "file_extension": ".py",
   "mimetype": "text/x-python",
   "name": "python",
   "nbconvert_exporter": "python",
   "pygments_lexer": "ipython3",
   "version": "3.9.7"
  }
 },
 "nbformat": 4,
 "nbformat_minor": 1
}
